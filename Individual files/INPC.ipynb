{
 "cells": [
  {
   "cell_type": "code",
   "execution_count": 10,
   "metadata": {},
   "outputs": [],
   "source": [
    "import pandas as pd\n",
    "from sqlalchemy import create_engine"
   ]
  },
  {
   "cell_type": "code",
   "execution_count": 11,
   "metadata": {},
   "outputs": [
    {
     "output_type": "execute_result",
     "data": {
      "text/plain": "    Instituto Nacional de Estadística y Geografía (INEGI)  \\\n0                                                  NaN      \n1               Fecha de consulta: 16/04/2020 19:46:39      \n2                                                  NaN      \n3                                             Periodos      \n4                                              1970/01      \n..                                                 ...      \n605                                            2020/02      \n606                                            2020/03      \n607                                                NaN      \n608                                           Fuentes:      \n609                     /f1 INEGI. Índices de precios.      \n\n                        Unnamed: 1  \n0                              NaN  \n1                              NaN  \n2                              NaN  \n3    583753  (Porcentaje)  Mensual  \n4                              5.2  \n..                             ...  \n605                            3.7  \n606                           3.25  \n607                            NaN  \n608                            NaN  \n609                            NaN  \n\n[610 rows x 2 columns]",
      "text/html": "<div>\n<style scoped>\n    .dataframe tbody tr th:only-of-type {\n        vertical-align: middle;\n    }\n\n    .dataframe tbody tr th {\n        vertical-align: top;\n    }\n\n    .dataframe thead th {\n        text-align: right;\n    }\n</style>\n<table border=\"1\" class=\"dataframe\">\n  <thead>\n    <tr style=\"text-align: right;\">\n      <th></th>\n      <th>Instituto Nacional de Estadística y Geografía (INEGI)</th>\n      <th>Unnamed: 1</th>\n    </tr>\n  </thead>\n  <tbody>\n    <tr>\n      <td>0</td>\n      <td>NaN</td>\n      <td>NaN</td>\n    </tr>\n    <tr>\n      <td>1</td>\n      <td>Fecha de consulta: 16/04/2020 19:46:39</td>\n      <td>NaN</td>\n    </tr>\n    <tr>\n      <td>2</td>\n      <td>NaN</td>\n      <td>NaN</td>\n    </tr>\n    <tr>\n      <td>3</td>\n      <td>Periodos</td>\n      <td>583753  (Porcentaje)  Mensual</td>\n    </tr>\n    <tr>\n      <td>4</td>\n      <td>1970/01</td>\n      <td>5.2</td>\n    </tr>\n    <tr>\n      <td>...</td>\n      <td>...</td>\n      <td>...</td>\n    </tr>\n    <tr>\n      <td>605</td>\n      <td>2020/02</td>\n      <td>3.7</td>\n    </tr>\n    <tr>\n      <td>606</td>\n      <td>2020/03</td>\n      <td>3.25</td>\n    </tr>\n    <tr>\n      <td>607</td>\n      <td>NaN</td>\n      <td>NaN</td>\n    </tr>\n    <tr>\n      <td>608</td>\n      <td>Fuentes:</td>\n      <td>NaN</td>\n    </tr>\n    <tr>\n      <td>609</td>\n      <td>/f1 INEGI. Índices de precios.</td>\n      <td>NaN</td>\n    </tr>\n  </tbody>\n</table>\n<p>610 rows × 2 columns</p>\n</div>"
     },
     "metadata": {},
     "execution_count": 11
    }
   ],
   "source": [
    "excel_file = \"Indicadores20200416194631.xls\"\n",
    "df = pd.read_excel(excel_file)\n",
    "df"
   ]
  },
  {
   "cell_type": "code",
   "execution_count": 12,
   "metadata": {},
   "outputs": [
    {
     "output_type": "execute_result",
     "data": {
      "text/plain": "    Instituto Nacional de Estadística y Geografía (INEGI) Unnamed: 1\n4                                              1970/01           5.2\n5                                              1970/02          4.81\n6                                              1970/03          5.01\n7                                              1970/04          4.87\n8                                              1970/05          5.09\n..                                                 ...           ...\n602                                            2019/11          2.97\n603                                            2019/12          2.83\n604                                            2020/01          3.24\n605                                            2020/02           3.7\n606                                            2020/03          3.25\n\n[603 rows x 2 columns]",
      "text/html": "<div>\n<style scoped>\n    .dataframe tbody tr th:only-of-type {\n        vertical-align: middle;\n    }\n\n    .dataframe tbody tr th {\n        vertical-align: top;\n    }\n\n    .dataframe thead th {\n        text-align: right;\n    }\n</style>\n<table border=\"1\" class=\"dataframe\">\n  <thead>\n    <tr style=\"text-align: right;\">\n      <th></th>\n      <th>Instituto Nacional de Estadística y Geografía (INEGI)</th>\n      <th>Unnamed: 1</th>\n    </tr>\n  </thead>\n  <tbody>\n    <tr>\n      <td>4</td>\n      <td>1970/01</td>\n      <td>5.2</td>\n    </tr>\n    <tr>\n      <td>5</td>\n      <td>1970/02</td>\n      <td>4.81</td>\n    </tr>\n    <tr>\n      <td>6</td>\n      <td>1970/03</td>\n      <td>5.01</td>\n    </tr>\n    <tr>\n      <td>7</td>\n      <td>1970/04</td>\n      <td>4.87</td>\n    </tr>\n    <tr>\n      <td>8</td>\n      <td>1970/05</td>\n      <td>5.09</td>\n    </tr>\n    <tr>\n      <td>...</td>\n      <td>...</td>\n      <td>...</td>\n    </tr>\n    <tr>\n      <td>602</td>\n      <td>2019/11</td>\n      <td>2.97</td>\n    </tr>\n    <tr>\n      <td>603</td>\n      <td>2019/12</td>\n      <td>2.83</td>\n    </tr>\n    <tr>\n      <td>604</td>\n      <td>2020/01</td>\n      <td>3.24</td>\n    </tr>\n    <tr>\n      <td>605</td>\n      <td>2020/02</td>\n      <td>3.7</td>\n    </tr>\n    <tr>\n      <td>606</td>\n      <td>2020/03</td>\n      <td>3.25</td>\n    </tr>\n  </tbody>\n</table>\n<p>603 rows × 2 columns</p>\n</div>"
     },
     "metadata": {},
     "execution_count": 12
    }
   ],
   "source": [
    "df2 = df.drop([0,1,2,3,607,608,609])\n",
    "df2"
   ]
  },
  {
   "cell_type": "code",
   "execution_count": 13,
   "metadata": {},
   "outputs": [
    {
     "output_type": "execute_result",
     "data": {
      "text/plain": "      period  inpc\n4    1970/01   5.2\n5    1970/02  4.81\n6    1970/03  5.01\n7    1970/04  4.87\n8    1970/05  5.09\n..       ...   ...\n602  2019/11  2.97\n603  2019/12  2.83\n604  2020/01  3.24\n605  2020/02   3.7\n606  2020/03  3.25\n\n[603 rows x 2 columns]",
      "text/html": "<div>\n<style scoped>\n    .dataframe tbody tr th:only-of-type {\n        vertical-align: middle;\n    }\n\n    .dataframe tbody tr th {\n        vertical-align: top;\n    }\n\n    .dataframe thead th {\n        text-align: right;\n    }\n</style>\n<table border=\"1\" class=\"dataframe\">\n  <thead>\n    <tr style=\"text-align: right;\">\n      <th></th>\n      <th>period</th>\n      <th>inpc</th>\n    </tr>\n  </thead>\n  <tbody>\n    <tr>\n      <td>4</td>\n      <td>1970/01</td>\n      <td>5.2</td>\n    </tr>\n    <tr>\n      <td>5</td>\n      <td>1970/02</td>\n      <td>4.81</td>\n    </tr>\n    <tr>\n      <td>6</td>\n      <td>1970/03</td>\n      <td>5.01</td>\n    </tr>\n    <tr>\n      <td>7</td>\n      <td>1970/04</td>\n      <td>4.87</td>\n    </tr>\n    <tr>\n      <td>8</td>\n      <td>1970/05</td>\n      <td>5.09</td>\n    </tr>\n    <tr>\n      <td>...</td>\n      <td>...</td>\n      <td>...</td>\n    </tr>\n    <tr>\n      <td>602</td>\n      <td>2019/11</td>\n      <td>2.97</td>\n    </tr>\n    <tr>\n      <td>603</td>\n      <td>2019/12</td>\n      <td>2.83</td>\n    </tr>\n    <tr>\n      <td>604</td>\n      <td>2020/01</td>\n      <td>3.24</td>\n    </tr>\n    <tr>\n      <td>605</td>\n      <td>2020/02</td>\n      <td>3.7</td>\n    </tr>\n    <tr>\n      <td>606</td>\n      <td>2020/03</td>\n      <td>3.25</td>\n    </tr>\n  </tbody>\n</table>\n<p>603 rows × 2 columns</p>\n</div>"
     },
     "metadata": {},
     "execution_count": 13
    }
   ],
   "source": [
    "df3 = df2.rename(columns={'Instituto Nacional de Estadística y Geografía (INEGI)':'period','Unnamed: 1':'inpc'})\n",
    "df3"
   ]
  },
  {
   "cell_type": "code",
   "execution_count": 14,
   "metadata": {},
   "outputs": [
    {
     "output_type": "execute_result",
     "data": {
      "text/plain": "      period  inpc  year month\n4    1970/01   5.2  1970    01\n5    1970/02  4.81  1970    02\n6    1970/03  5.01  1970    03\n7    1970/04  4.87  1970    04\n8    1970/05  5.09  1970    05\n..       ...   ...   ...   ...\n602  2019/11  2.97  2019    11\n603  2019/12  2.83  2019    12\n604  2020/01  3.24  2020    01\n605  2020/02   3.7  2020    02\n606  2020/03  3.25  2020    03\n\n[603 rows x 4 columns]",
      "text/html": "<div>\n<style scoped>\n    .dataframe tbody tr th:only-of-type {\n        vertical-align: middle;\n    }\n\n    .dataframe tbody tr th {\n        vertical-align: top;\n    }\n\n    .dataframe thead th {\n        text-align: right;\n    }\n</style>\n<table border=\"1\" class=\"dataframe\">\n  <thead>\n    <tr style=\"text-align: right;\">\n      <th></th>\n      <th>period</th>\n      <th>inpc</th>\n      <th>year</th>\n      <th>month</th>\n    </tr>\n  </thead>\n  <tbody>\n    <tr>\n      <td>4</td>\n      <td>1970/01</td>\n      <td>5.2</td>\n      <td>1970</td>\n      <td>01</td>\n    </tr>\n    <tr>\n      <td>5</td>\n      <td>1970/02</td>\n      <td>4.81</td>\n      <td>1970</td>\n      <td>02</td>\n    </tr>\n    <tr>\n      <td>6</td>\n      <td>1970/03</td>\n      <td>5.01</td>\n      <td>1970</td>\n      <td>03</td>\n    </tr>\n    <tr>\n      <td>7</td>\n      <td>1970/04</td>\n      <td>4.87</td>\n      <td>1970</td>\n      <td>04</td>\n    </tr>\n    <tr>\n      <td>8</td>\n      <td>1970/05</td>\n      <td>5.09</td>\n      <td>1970</td>\n      <td>05</td>\n    </tr>\n    <tr>\n      <td>...</td>\n      <td>...</td>\n      <td>...</td>\n      <td>...</td>\n      <td>...</td>\n    </tr>\n    <tr>\n      <td>602</td>\n      <td>2019/11</td>\n      <td>2.97</td>\n      <td>2019</td>\n      <td>11</td>\n    </tr>\n    <tr>\n      <td>603</td>\n      <td>2019/12</td>\n      <td>2.83</td>\n      <td>2019</td>\n      <td>12</td>\n    </tr>\n    <tr>\n      <td>604</td>\n      <td>2020/01</td>\n      <td>3.24</td>\n      <td>2020</td>\n      <td>01</td>\n    </tr>\n    <tr>\n      <td>605</td>\n      <td>2020/02</td>\n      <td>3.7</td>\n      <td>2020</td>\n      <td>02</td>\n    </tr>\n    <tr>\n      <td>606</td>\n      <td>2020/03</td>\n      <td>3.25</td>\n      <td>2020</td>\n      <td>03</td>\n    </tr>\n  </tbody>\n</table>\n<p>603 rows × 4 columns</p>\n</div>"
     },
     "metadata": {},
     "execution_count": 14
    }
   ],
   "source": [
    "df3['year'] = df3['period'].str.slice(stop=4)\n",
    "df3['month'] = df3['period'].str.slice(start=-2)\n",
    "df3"
   ]
  },
  {
   "cell_type": "code",
   "execution_count": 15,
   "metadata": {},
   "outputs": [
    {
     "output_type": "execute_result",
     "data": {
      "text/plain": "     index   period  inpc  year month\n0        4  1970/01  5.20  1970    01\n1        5  1970/02  4.81  1970    02\n2        6  1970/03  5.01  1970    03\n3        7  1970/04  4.87  1970    04\n4        8  1970/05  5.09  1970    05\n..     ...      ...   ...   ...   ...\n598    602  2019/11  2.97  2019    11\n599    603  2019/12  2.83  2019    12\n600    604  2020/01  3.24  2020    01\n601    605  2020/02  3.70  2020    02\n602    606  2020/03  3.25  2020    03\n\n[603 rows x 5 columns]",
      "text/html": "<div>\n<style scoped>\n    .dataframe tbody tr th:only-of-type {\n        vertical-align: middle;\n    }\n\n    .dataframe tbody tr th {\n        vertical-align: top;\n    }\n\n    .dataframe thead th {\n        text-align: right;\n    }\n</style>\n<table border=\"1\" class=\"dataframe\">\n  <thead>\n    <tr style=\"text-align: right;\">\n      <th></th>\n      <th>index</th>\n      <th>period</th>\n      <th>inpc</th>\n      <th>year</th>\n      <th>month</th>\n    </tr>\n  </thead>\n  <tbody>\n    <tr>\n      <td>0</td>\n      <td>4</td>\n      <td>1970/01</td>\n      <td>5.20</td>\n      <td>1970</td>\n      <td>01</td>\n    </tr>\n    <tr>\n      <td>1</td>\n      <td>5</td>\n      <td>1970/02</td>\n      <td>4.81</td>\n      <td>1970</td>\n      <td>02</td>\n    </tr>\n    <tr>\n      <td>2</td>\n      <td>6</td>\n      <td>1970/03</td>\n      <td>5.01</td>\n      <td>1970</td>\n      <td>03</td>\n    </tr>\n    <tr>\n      <td>3</td>\n      <td>7</td>\n      <td>1970/04</td>\n      <td>4.87</td>\n      <td>1970</td>\n      <td>04</td>\n    </tr>\n    <tr>\n      <td>4</td>\n      <td>8</td>\n      <td>1970/05</td>\n      <td>5.09</td>\n      <td>1970</td>\n      <td>05</td>\n    </tr>\n    <tr>\n      <td>...</td>\n      <td>...</td>\n      <td>...</td>\n      <td>...</td>\n      <td>...</td>\n      <td>...</td>\n    </tr>\n    <tr>\n      <td>598</td>\n      <td>602</td>\n      <td>2019/11</td>\n      <td>2.97</td>\n      <td>2019</td>\n      <td>11</td>\n    </tr>\n    <tr>\n      <td>599</td>\n      <td>603</td>\n      <td>2019/12</td>\n      <td>2.83</td>\n      <td>2019</td>\n      <td>12</td>\n    </tr>\n    <tr>\n      <td>600</td>\n      <td>604</td>\n      <td>2020/01</td>\n      <td>3.24</td>\n      <td>2020</td>\n      <td>01</td>\n    </tr>\n    <tr>\n      <td>601</td>\n      <td>605</td>\n      <td>2020/02</td>\n      <td>3.70</td>\n      <td>2020</td>\n      <td>02</td>\n    </tr>\n    <tr>\n      <td>602</td>\n      <td>606</td>\n      <td>2020/03</td>\n      <td>3.25</td>\n      <td>2020</td>\n      <td>03</td>\n    </tr>\n  </tbody>\n</table>\n<p>603 rows × 5 columns</p>\n</div>"
     },
     "metadata": {},
     "execution_count": 15
    }
   ],
   "source": [
    "df3['inpc'] = df3['inpc'].astype('float64')\n",
    "df3"
   ]
  },
  {
   "cell_type": "code",
   "execution_count": 16,
   "metadata": {},
   "outputs": [
    {
     "output_type": "execute_result",
     "data": {
      "text/plain": "['barrel_price', 'inflation', 'indice']"
     },
     "metadata": {},
     "execution_count": 16
    }
   ],
   "source": [
    "connection_string = \"postgres:Ichliebe1*@localhost:5432/Project2\"\n",
    "engine = create_engine(f'postgresql://{connection_string}')\n",
    "engine.table_names()"
   ]
  },
  {
   "cell_type": "code",
   "execution_count": 17,
   "metadata": {},
   "outputs": [],
   "source": [
    "df3.to_sql(name='indice', con=engine, if_exists='append', index=False)"
   ]
  },
  {
   "cell_type": "code",
   "execution_count": 18,
   "metadata": {},
   "outputs": [
    {
     "output_type": "execute_result",
     "data": {
      "text/plain": "     index   period  inpc  year month\n0        4  1970/01  5.20  1970    01\n1        5  1970/02  4.81  1970    02\n2        6  1970/03  5.01  1970    03\n3        7  1970/04  4.87  1970    04\n4        8  1970/05  5.09  1970    05\n..     ...      ...   ...   ...   ...\n598    602  2019/11  2.97  2019    11\n599    603  2019/12  2.83  2019    12\n600    604  2020/01  3.24  2020    01\n601    605  2020/02  3.70  2020    02\n602    606  2020/03  3.25  2020    03\n\n[603 rows x 5 columns]",
      "text/html": "<div>\n<style scoped>\n    .dataframe tbody tr th:only-of-type {\n        vertical-align: middle;\n    }\n\n    .dataframe tbody tr th {\n        vertical-align: top;\n    }\n\n    .dataframe thead th {\n        text-align: right;\n    }\n</style>\n<table border=\"1\" class=\"dataframe\">\n  <thead>\n    <tr style=\"text-align: right;\">\n      <th></th>\n      <th>index</th>\n      <th>period</th>\n      <th>inpc</th>\n      <th>year</th>\n      <th>month</th>\n    </tr>\n  </thead>\n  <tbody>\n    <tr>\n      <td>0</td>\n      <td>4</td>\n      <td>1970/01</td>\n      <td>5.20</td>\n      <td>1970</td>\n      <td>01</td>\n    </tr>\n    <tr>\n      <td>1</td>\n      <td>5</td>\n      <td>1970/02</td>\n      <td>4.81</td>\n      <td>1970</td>\n      <td>02</td>\n    </tr>\n    <tr>\n      <td>2</td>\n      <td>6</td>\n      <td>1970/03</td>\n      <td>5.01</td>\n      <td>1970</td>\n      <td>03</td>\n    </tr>\n    <tr>\n      <td>3</td>\n      <td>7</td>\n      <td>1970/04</td>\n      <td>4.87</td>\n      <td>1970</td>\n      <td>04</td>\n    </tr>\n    <tr>\n      <td>4</td>\n      <td>8</td>\n      <td>1970/05</td>\n      <td>5.09</td>\n      <td>1970</td>\n      <td>05</td>\n    </tr>\n    <tr>\n      <td>...</td>\n      <td>...</td>\n      <td>...</td>\n      <td>...</td>\n      <td>...</td>\n      <td>...</td>\n    </tr>\n    <tr>\n      <td>598</td>\n      <td>602</td>\n      <td>2019/11</td>\n      <td>2.97</td>\n      <td>2019</td>\n      <td>11</td>\n    </tr>\n    <tr>\n      <td>599</td>\n      <td>603</td>\n      <td>2019/12</td>\n      <td>2.83</td>\n      <td>2019</td>\n      <td>12</td>\n    </tr>\n    <tr>\n      <td>600</td>\n      <td>604</td>\n      <td>2020/01</td>\n      <td>3.24</td>\n      <td>2020</td>\n      <td>01</td>\n    </tr>\n    <tr>\n      <td>601</td>\n      <td>605</td>\n      <td>2020/02</td>\n      <td>3.70</td>\n      <td>2020</td>\n      <td>02</td>\n    </tr>\n    <tr>\n      <td>602</td>\n      <td>606</td>\n      <td>2020/03</td>\n      <td>3.25</td>\n      <td>2020</td>\n      <td>03</td>\n    </tr>\n  </tbody>\n</table>\n<p>603 rows × 5 columns</p>\n</div>"
     },
     "metadata": {},
     "execution_count": 18
    }
   ],
   "source": [
    "pd.read_sql_query('select * from indice', con=engine)"
   ]
  },
  {
   "cell_type": "code",
   "execution_count": null,
   "metadata": {},
   "outputs": [],
   "source": []
  }
 ],
 "metadata": {
  "kernelspec": {
   "display_name": "Python 3",
   "language": "python",
   "name": "python3"
  },
  "language_info": {
   "codemirror_mode": {
    "name": "ipython",
    "version": 3
   },
   "file_extension": ".py",
   "mimetype": "text/x-python",
   "name": "python",
   "nbconvert_exporter": "python",
   "pygments_lexer": "ipython3",
   "version": "3.7.4-final"
  }
 },
 "nbformat": 4,
 "nbformat_minor": 4
}