{
 "cells": [
  {
   "cell_type": "code",
   "execution_count": null,
   "metadata": {},
   "outputs": [],
   "source": [
    "#Dependencies\n",
    "from bs4 import BeautifulSoup\n",
    "import requests\n",
    "from splinter import Browser\n",
    "import time\n",
    "import pandas as pd\n",
    "import numpy as np\n",
    "import datetime\n",
    "from sqlalchemy import create_engine"
   ]
  },
  {
   "cell_type": "code",
   "execution_count": null,
   "metadata": {},
   "outputs": [],
   "source": [
    "#INFLATION DATAFRAME PROCESS"
   ]
  },
  {
   "cell_type": "code",
   "execution_count": null,
   "metadata": {},
   "outputs": [],
   "source": [
    "url = 'https://www.inflation.eu/inflation-rates/mexico/historic-inflation/cpi-inflation-mexico.aspx'\n",
    "response = requests.get(url)\n",
    "soup = BeautifulSoup(response.text, 'html.parser')\n",
    "\n",
    "table = pd.read_html(url)\n",
    "print(table)"
   ]
  },
  {
   "cell_type": "code",
   "execution_count": null,
   "metadata": {},
   "outputs": [],
   "source": [
    "#Transform\n",
    "df = table[8]\n",
    "df2 = df.drop(0)\n",
    "df3 = df2[[0, 1]].copy()\n",
    "df4 = df2[[3, 4]].copy()\n",
    "df4 = df4.rename(columns={3:0,4:1})\n",
    "df5 = df3.append(df4, ignore_index = True)\n",
    "df5[0] = df5[0].replace(regex=[r'^ba.$', 'CPI Mexico '], value='')\n",
    "df5 = df5.rename(columns={0:'year', 1:'inflation'})\n",
    "df5['inflation'] = df5['inflation'].replace(regex=[r'^ba.$', '%'], value='')\n",
    "df5['inflation'] = df5['inflation'].astype('float64')\n",
    "print(df5.dtypes)\n",
    "df5.head()\n",
    ""
   ]
  },
  {
   "cell_type": "code",
   "execution_count": null,
   "metadata": {},
   "outputs": [],
   "source": [
    "#INPC DATAFRAME PROCESS"
   ]
  },
  {
   "cell_type": "code",
   "execution_count": null,
   "metadata": {},
   "outputs": [],
   "source": [
    "excel_file = \"Indicadores20200416194631.xls\"\n",
    "df = pd.read_excel(excel_file)\n",
    "df"
   ]
  },
  {
   "cell_type": "code",
   "execution_count": null,
   "metadata": {},
   "outputs": [],
   "source": [
    "#Transform data\n",
    "df2 = df.drop([0,1,2,3,607,608,609])\n",
    "df3 = df2.rename(columns={'Instituto Nacional de Estadística y Geografía (INEGI)':'period','Unnamed: 1':'inpc'})\n",
    "df3['year'] = df3['period'].str.slice(stop=4)\n",
    "df3['month'] = df3['period'].str.slice(start=-2)\n",
    "df3['inpc'] = df3['inpc'].astype('float64')\n",
    "df3.head()\n",
    ""
   ]
  },
  {
   "cell_type": "code",
   "execution_count": null,
   "metadata": {},
   "outputs": [],
   "source": [
    "#BARREL PRICE DATAFRAME PROCESS"
   ]
  },
  {
   "cell_type": "code",
   "execution_count": null,
   "metadata": {},
   "outputs": [],
   "source": [
    "#Extract CSV  into DataFrame\n",
    "barrelPrice_csv = \"Consulta_Precio_Barril_Petroleo.csv\"\n",
    "barrelPrice_df = pd.read_csv(barrelPrice_csv)\n",
    "barrelPrice_df.head()"
   ]
  },
  {
   "cell_type": "code",
   "execution_count": null,
   "metadata": {},
   "outputs": [],
   "source": [
    "#Clean and Transform Dataframe\n",
    "#1. Change column \"fecha\"  into datetime format \n",
    "# datetime assumes original info has Month as its first element. Its necessary to include \"dayfirst=True\" so the method knows first value is the DAY.\n",
    "barrelPrice_df['Fecha']=pd.to_datetime(barrelPrice_df['Fecha'], dayfirst=True)\n",
    "\n",
    "#2. Eliminate NA values\n",
    "#Identify the rows with \"N/E\" value (by its index value)\n",
    "indexNames = barrelPrice_df[ barrelPrice_df['SI744'] == \"N/E\" ].index\n",
    "# Delete these rows  from dataFrame, using the index value identified\n",
    "barrelPrice_df.drop(indexNames , inplace=True)\n",
    "\n",
    "#3. Change \"SI744\" column into float format \n",
    "barrelPrice_df['SI744'] = barrelPrice_df['SI744'].astype('float64')\n",
    "\n",
    "# 4. Separate month and year into new columns\n",
    "barrelPrice_df[\"month\"]=barrelPrice_df.Fecha.dt.strftime('%m')\n",
    "barrelPrice_df[\"year\"]=barrelPrice_df.Fecha.dt.strftime('%Y')\n",
    "\n",
    "#5. Find average barrel price per month, grouping by year and month - MEAN / reset_index  --> Final DF 292 rows (1 per month)\n",
    "#Create a copy of DF & Groupby and find average value\n",
    "barrelPrice_df2=barrelPrice_df.copy()\n",
    "barrelPrice_avg =barrelPrice_df2.groupby([\"year\",\"month\"]).mean()\n",
    "\n",
    "#Create new DF by using Reset index \n",
    "barrelPrice_wAVG_df= barrelPrice_avg.reset_index()\n",
    "\n",
    "#Rename column 'SI744' \n",
    "barrelPrice_wAVG_df=barrelPrice_wAVG_df.rename(columns={\"SI744\":\"barrel_avg_price\"})\n",
    "\n",
    "#Round Average Barrel Price into 4 decimals\n",
    "barrelPrice_wAVG_df[\"barrel_avg_price\"]=round(barrelPrice_wAVG_df[\"barrel_avg_price\"],4)\n",
    "barrelPrice_wAVG_df"
   ]
  },
  {
   "cell_type": "code",
   "execution_count": null,
   "metadata": {},
   "outputs": [],
   "source": [
    "#GDP  DATAFRAME PROCESS"
   ]
  },
  {
   "cell_type": "code",
   "execution_count": null,
   "metadata": {},
   "outputs": [],
   "source": [
    "# Open CSV\n",
    "gdp_data=\"GDP2_file.csv\"\n",
    "\n",
    "# Read files\n",
    "gdp_data = pd.read_csv(gdp_data, thousands=',')\n",
    "gdp_data.head()"
   ]
  },
  {
   "cell_type": "code",
   "execution_count": null,
   "metadata": {},
   "outputs": [],
   "source": [
    "#Transform Data\n",
    "df = pd.melt(gdp_data,\n",
    "                            id_vars=[\"Concepto\"],\n",
    "                            var_name = \"Period\",\n",
    "                            value_name=\"GDP Index\")\n",
    "  \n",
    "\n",
    "df [\"Year\"]= df [\"Period\"].str.slice(start=3)\n",
    "df [\"Quarter\"]= df [\"Period\"].str.slice(stop=2)\n",
    "\n",
    "df = df.replace(0, np.nan)\n",
    "df = df.dropna(how='all', axis=0)\n",
    "df = df.replace(np.nan, 0)\n",
    "\n",
    "df = df.rename(columns={'Period':'period','GDP Index':'gdp','Year': 'year','Quarter': 'quarter'})\n",
    "del df[\"Concepto\"]\n",
    "del df[\"period\"]\n",
    "\n",
    "df[\"quarter\"].replace({\"T1\":1, \"T2\":2, \"T3\":3, \"T4\":4}, inplace=True)\n",
    "\n",
    "dict_q ={1:[1,2,3],2:[4,5,6],3:[7,8,9],4:[10,11,12]}\n",
    "monthList=[dict_q[x[1]] for x in df[\"quarter\"].items()]\n",
    "df[\"month\"]=monthList\n",
    "\n",
    "#List values displays into multiple rows\n",
    "df=df.explode(\"month\")\n",
    "\n",
    "print(df.dtypes)\n",
    "df.head()"
   ]
  },
  {
   "cell_type": "code",
   "execution_count": null,
   "metadata": {},
   "outputs": [],
   "source": [
    "#Connection to DB\n",
    "connection_string = \"postgres:PASSWORD@localhost:5432/Project2\"\n",
    "engine = create_engine(f'postgresql://{connection_string}')\n",
    "\n",
    "# Confirm tables\n",
    "engine.table_names() "
   ]
  },
  {
   "cell_type": "code",
   "execution_count": null,
   "metadata": {},
   "outputs": [],
   "source": [
    "#Load information DF into DB\n",
    "\n",
    "# Inflation dataframe\n",
    "df5.to_sql(name='inflation', con=engine, if_exists='append', index=False)\n",
    "\n",
    "# INPC dataframe\n",
    "df3.to_sql(name='indice', con=engine, if_exists='append', index=False)\n",
    "\n",
    "# Barrel Price dataframe\n",
    "barrelPrice_wAVG_df.to_sql(name=\"barrel_price\", con=engine, if_exists=\"append\", index=False)\n",
    "\n",
    "#GDP dataframe\n",
    "df.to_sql(name=\"gdp\", con=engine, if_exists=\"append\", index=False)"
   ]
  },
  {
   "cell_type": "code",
   "execution_count": null,
   "metadata": {},
   "outputs": [],
   "source": [
    "#Verify information uploaded  - INFLATION TABLE\n",
    "pd.read_sql_query('select * from inflation', con=engine)\n",
    "\n",
    ""
   ]
  },
  {
   "cell_type": "code",
   "execution_count": null,
   "metadata": {},
   "outputs": [],
   "source": [
    "#Verify information uploaded - INDICE TABLE (INPC)\n",
    "pd.read_sql_query('select * from indice', con=engine)\n",
    ""
   ]
  },
  {
   "cell_type": "code",
   "execution_count": null,
   "metadata": {},
   "outputs": [],
   "source": [
    "#Verify information uploaded - BARREL_PRICE TABLE \n",
    "pd.read_sql_query('select * from barrel_price', con=engine)\n",
    ""
   ]
  },
  {
   "cell_type": "code",
   "execution_count": null,
   "metadata": {},
   "outputs": [],
   "source": [
    "#Verify information uploaded - GDP TABLE\n",
    "pd.read_sql_query('select * from gdp', con=engine)"
   ]
  }
 ],
 "metadata": {
  "kernelspec": {
   "display_name": "Python 3",
   "language": "python",
   "name": "python3"
  },
  "language_info": {
   "codemirror_mode": {
    "name": "ipython",
    "version": 3
   },
   "file_extension": ".py",
   "mimetype": "text/x-python",
   "name": "python",
   "nbconvert_exporter": "python",
   "pygments_lexer": "ipython3",
   "version": "3.7.4-final"
  }
 },
 "nbformat": 4,
 "nbformat_minor": 4
}