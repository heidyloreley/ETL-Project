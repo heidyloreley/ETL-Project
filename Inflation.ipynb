{
 "cells": [
  {
   "cell_type": "code",
   "execution_count": 57,
   "metadata": {},
   "outputs": [],
   "source": [
    "from bs4 import BeautifulSoup\n",
    "import requests\n",
    "from splinter import Browser\n",
    "import time\n",
    "import pandas as pd\n",
    "from sqlalchemy import create_engine"
   ]
  },
  {
   "cell_type": "code",
   "execution_count": 58,
   "metadata": {},
   "outputs": [
    {
     "output_type": "stream",
     "name": "stdout",
     "text": "[    0   1\n0 NaN NaN,                                            0\n0  <!-- new menu (MENU_ITEMS, MENU_TPL); -->,                                            0\n0  <!-- new menu (MENU_ITEMS, MENU_TPL); -->,                                                    0\n0  <!-- google_ad_client = \"ca-pub-88446894191807...,     0                                                  1   2  \\\n0 NaN  <!-- google_ad_client = \"ca-pub-88446894191807... NaN   \n\n                                                   3  \n0  Austria \\tBelgium \\tBrazil \\tCanada \\tChile \\t...  ,                                                    0\n0  <!-- google_ad_client = \"ca-pub-88446894191807...,                                                    0\n0  <!-- google_ad_client = \"ca-pub-88446894191807...,                                            0   1\n0  Historic inflation Mexico - CPI inflation NaN,                                  0          1   2  \\\n0   annual inflation (dec vs. dec)  inflation NaN   \n1                  CPI Mexico 2019     2.83 % NaN   \n2                  CPI Mexico 2018     4.83 % NaN   \n3                  CPI Mexico 2017     6.77 % NaN   \n4                  CPI Mexico 2016     3.36 % NaN   \n5                  CPI Mexico 2015     2.13 % NaN   \n6                  CPI Mexico 2014     4.08 % NaN   \n7                  CPI Mexico 2013     3.97 % NaN   \n8                  CPI Mexico 2012     3.57 % NaN   \n9                  CPI Mexico 2011     3.82 % NaN   \n10                 CPI Mexico 2010     4.40 % NaN   \n\n                                 3          4  \n0   annual inflation (dec vs. dec)  inflation  \n1                  CPI Mexico 2009     3.57 %  \n2                  CPI Mexico 2008     6.53 %  \n3                  CPI Mexico 2007     3.76 %  \n4                  CPI Mexico 2006     4.05 %  \n5                  CPI Mexico 2005     3.33 %  \n6                  CPI Mexico 2004     5.19 %  \n7                  CPI Mexico 2003     3.98 %  \n8                  CPI Mexico 2002     5.70 %  \n9                  CPI Mexico 2001     4.40 %  \n10                 CPI Mexico 2000     8.96 %  ,                     0          1   2                  3          4\n0   average inflation  inflation NaN  average inflation  inflation\n1     CPI Mexico 2020     3.39 % NaN    CPI Mexico 2010     4.16 %\n2     CPI Mexico 2019     3.64 % NaN    CPI Mexico 2009     5.31 %\n3     CPI Mexico 2018     4.90 % NaN    CPI Mexico 2008     5.12 %\n4     CPI Mexico 2017     6.04 % NaN    CPI Mexico 2007     3.97 %\n5     CPI Mexico 2016     2.82 % NaN    CPI Mexico 2006     3.63 %\n6     CPI Mexico 2015     2.72 % NaN    CPI Mexico 2005     4.00 %\n7     CPI Mexico 2014     4.02 % NaN    CPI Mexico 2004     4.68 %\n8     CPI Mexico 2013     3.81 % NaN    CPI Mexico 2003     4.56 %\n9     CPI Mexico 2012     4.11 % NaN    CPI Mexico 2002     5.03 %\n10    CPI Mexico 2011     3.41 % NaN    CPI Mexico 2001     6.39 %,                                0                         1  \\\n0          CPI inflation Austria      CPI inflation Greece   \n1          CPI inflation Belgium     CPI inflation Hungary   \n2           CPI inflation Brazil     CPI inflation Iceland   \n3           CPI inflation Canada       CPI inflation India   \n4            CPI inflation Chile   CPI inflation Indonesia   \n5            CPI inflation China     CPI inflation Ireland   \n6   CPI inflation Czech Republic      CPI inflation Israel   \n7          CPI inflation Denmark       CPI inflation Italy   \n8          CPI inflation Estonia       CPI inflation Japan   \n9          CPI inflation Finland  CPI inflation Luxembourg   \n10          CPI inflation France      CPI inflation Norway   \n11         CPI inflation Germany      CPI inflation Poland   \n12   CPI inflation Great Britain    CPI inflation Portugal   \n\n                                2  \n0            CPI inflation Russia  \n1          CPI inflation Slovakia  \n2          CPI inflation Slovenia  \n3      CPI inflation South Africa  \n4       CPI inflation South Korea  \n5             CPI inflation Spain  \n6            CPI inflation Sweden  \n7       CPI inflation Switzerland  \n8   CPI inflation The Netherlands  \n9            CPI inflation Turkey  \n10    CPI inflation United States  \n11                            NaN  \n12                            NaN  ,                                                    0\n0  This website contains current data about infla...,                                                    0\n0  Austria \\tBelgium \\tBrazil \\tCanada \\tChile \\t...\n1  Inflation by country - quick links  Inflation ...,                                                    0   1\n0  Austria \\tBelgium \\tBrazil \\tCanada \\tChile \\t... NaN,                                                     0  \\\n0                  Inflation by country - quick links   \n1                                   Inflation Belgium   \n2                                    Inflation Brazil   \n3                                    Inflation Canada   \n4                                     Inflation China   \n5                                    Inflation France   \n6                                   Inflation Germany   \n7                             Inflation Great Britain   \n8                                     Inflation India   \n9                                 Inflation Indonesia   \n10                                    Inflation Italy   \n11  Current inflation by country - CPI inflation  ...   \n\n                                                    1  \n0                  Inflation by country - quick links  \n1                                     Inflation Japan  \n2                                    Inflation Mexico  \n3                                    Inflation Poland  \n4                                    Inflation Russia  \n5                              Inflation South Africa  \n6                                     Inflation Spain  \n7                                    Inflation Sweden  \n8                           Inflation The Netherlands  \n9                                    Inflation Turkey  \n10                            Inflation United States  \n11  Current inflation by country - CPI inflation  ...  ,                                                    0\n0  Current inflation by country - CPI inflation  ...,                                                    0\n0       Current inflation by country - CPI inflation\n1  Current harmonised inflation by country - HICP...,                                                    0\n0  <!-- google_ad_client = \"ca-pub-88446894191807...,                                                    0\n0  disclaimer  cookies  inflation.eu is an initia...,                      0                                                  1\n0  disclaimer  cookies  inflation.eu is an initiative of Triami Media ...]\n"
    }
   ],
   "source": [
    "url = 'https://www.inflation.eu/inflation-rates/mexico/historic-inflation/cpi-inflation-mexico.aspx'\n",
    "response = requests.get(url)\n",
    "soup = BeautifulSoup(response.text, 'html.parser')\n",
    "\n",
    "table = pd.read_html(url)\n",
    "print(table)"
   ]
  },
  {
   "cell_type": "code",
   "execution_count": 59,
   "metadata": {},
   "outputs": [
    {
     "output_type": "execute_result",
     "data": {
      "text/plain": "20"
     },
     "metadata": {},
     "execution_count": 59
    }
   ],
   "source": [
    "len(table)"
   ]
  },
  {
   "cell_type": "code",
   "execution_count": 60,
   "metadata": {},
   "outputs": [
    {
     "output_type": "execute_result",
     "data": {
      "text/plain": "                                 0          1   2  \\\n0   annual inflation (dec vs. dec)  inflation NaN   \n1                  CPI Mexico 2019     2.83 % NaN   \n2                  CPI Mexico 2018     4.83 % NaN   \n3                  CPI Mexico 2017     6.77 % NaN   \n4                  CPI Mexico 2016     3.36 % NaN   \n5                  CPI Mexico 2015     2.13 % NaN   \n6                  CPI Mexico 2014     4.08 % NaN   \n7                  CPI Mexico 2013     3.97 % NaN   \n8                  CPI Mexico 2012     3.57 % NaN   \n9                  CPI Mexico 2011     3.82 % NaN   \n10                 CPI Mexico 2010     4.40 % NaN   \n\n                                 3          4  \n0   annual inflation (dec vs. dec)  inflation  \n1                  CPI Mexico 2009     3.57 %  \n2                  CPI Mexico 2008     6.53 %  \n3                  CPI Mexico 2007     3.76 %  \n4                  CPI Mexico 2006     4.05 %  \n5                  CPI Mexico 2005     3.33 %  \n6                  CPI Mexico 2004     5.19 %  \n7                  CPI Mexico 2003     3.98 %  \n8                  CPI Mexico 2002     5.70 %  \n9                  CPI Mexico 2001     4.40 %  \n10                 CPI Mexico 2000     8.96 %  ",
      "text/html": "<div>\n<style scoped>\n    .dataframe tbody tr th:only-of-type {\n        vertical-align: middle;\n    }\n\n    .dataframe tbody tr th {\n        vertical-align: top;\n    }\n\n    .dataframe thead th {\n        text-align: right;\n    }\n</style>\n<table border=\"1\" class=\"dataframe\">\n  <thead>\n    <tr style=\"text-align: right;\">\n      <th></th>\n      <th>0</th>\n      <th>1</th>\n      <th>2</th>\n      <th>3</th>\n      <th>4</th>\n    </tr>\n  </thead>\n  <tbody>\n    <tr>\n      <td>0</td>\n      <td>annual inflation (dec vs. dec)</td>\n      <td>inflation</td>\n      <td>NaN</td>\n      <td>annual inflation (dec vs. dec)</td>\n      <td>inflation</td>\n    </tr>\n    <tr>\n      <td>1</td>\n      <td>CPI Mexico 2019</td>\n      <td>2.83 %</td>\n      <td>NaN</td>\n      <td>CPI Mexico 2009</td>\n      <td>3.57 %</td>\n    </tr>\n    <tr>\n      <td>2</td>\n      <td>CPI Mexico 2018</td>\n      <td>4.83 %</td>\n      <td>NaN</td>\n      <td>CPI Mexico 2008</td>\n      <td>6.53 %</td>\n    </tr>\n    <tr>\n      <td>3</td>\n      <td>CPI Mexico 2017</td>\n      <td>6.77 %</td>\n      <td>NaN</td>\n      <td>CPI Mexico 2007</td>\n      <td>3.76 %</td>\n    </tr>\n    <tr>\n      <td>4</td>\n      <td>CPI Mexico 2016</td>\n      <td>3.36 %</td>\n      <td>NaN</td>\n      <td>CPI Mexico 2006</td>\n      <td>4.05 %</td>\n    </tr>\n    <tr>\n      <td>5</td>\n      <td>CPI Mexico 2015</td>\n      <td>2.13 %</td>\n      <td>NaN</td>\n      <td>CPI Mexico 2005</td>\n      <td>3.33 %</td>\n    </tr>\n    <tr>\n      <td>6</td>\n      <td>CPI Mexico 2014</td>\n      <td>4.08 %</td>\n      <td>NaN</td>\n      <td>CPI Mexico 2004</td>\n      <td>5.19 %</td>\n    </tr>\n    <tr>\n      <td>7</td>\n      <td>CPI Mexico 2013</td>\n      <td>3.97 %</td>\n      <td>NaN</td>\n      <td>CPI Mexico 2003</td>\n      <td>3.98 %</td>\n    </tr>\n    <tr>\n      <td>8</td>\n      <td>CPI Mexico 2012</td>\n      <td>3.57 %</td>\n      <td>NaN</td>\n      <td>CPI Mexico 2002</td>\n      <td>5.70 %</td>\n    </tr>\n    <tr>\n      <td>9</td>\n      <td>CPI Mexico 2011</td>\n      <td>3.82 %</td>\n      <td>NaN</td>\n      <td>CPI Mexico 2001</td>\n      <td>4.40 %</td>\n    </tr>\n    <tr>\n      <td>10</td>\n      <td>CPI Mexico 2010</td>\n      <td>4.40 %</td>\n      <td>NaN</td>\n      <td>CPI Mexico 2000</td>\n      <td>8.96 %</td>\n    </tr>\n  </tbody>\n</table>\n</div>"
     },
     "metadata": {},
     "execution_count": 60
    }
   ],
   "source": [
    "df = table[8]\n",
    "df"
   ]
  },
  {
   "cell_type": "code",
   "execution_count": 61,
   "metadata": {},
   "outputs": [
    {
     "output_type": "execute_result",
     "data": {
      "text/plain": "                  0       1   2                3       4\n1   CPI Mexico 2019  2.83 % NaN  CPI Mexico 2009  3.57 %\n2   CPI Mexico 2018  4.83 % NaN  CPI Mexico 2008  6.53 %\n3   CPI Mexico 2017  6.77 % NaN  CPI Mexico 2007  3.76 %\n4   CPI Mexico 2016  3.36 % NaN  CPI Mexico 2006  4.05 %\n5   CPI Mexico 2015  2.13 % NaN  CPI Mexico 2005  3.33 %\n6   CPI Mexico 2014  4.08 % NaN  CPI Mexico 2004  5.19 %\n7   CPI Mexico 2013  3.97 % NaN  CPI Mexico 2003  3.98 %\n8   CPI Mexico 2012  3.57 % NaN  CPI Mexico 2002  5.70 %\n9   CPI Mexico 2011  3.82 % NaN  CPI Mexico 2001  4.40 %\n10  CPI Mexico 2010  4.40 % NaN  CPI Mexico 2000  8.96 %",
      "text/html": "<div>\n<style scoped>\n    .dataframe tbody tr th:only-of-type {\n        vertical-align: middle;\n    }\n\n    .dataframe tbody tr th {\n        vertical-align: top;\n    }\n\n    .dataframe thead th {\n        text-align: right;\n    }\n</style>\n<table border=\"1\" class=\"dataframe\">\n  <thead>\n    <tr style=\"text-align: right;\">\n      <th></th>\n      <th>0</th>\n      <th>1</th>\n      <th>2</th>\n      <th>3</th>\n      <th>4</th>\n    </tr>\n  </thead>\n  <tbody>\n    <tr>\n      <td>1</td>\n      <td>CPI Mexico 2019</td>\n      <td>2.83 %</td>\n      <td>NaN</td>\n      <td>CPI Mexico 2009</td>\n      <td>3.57 %</td>\n    </tr>\n    <tr>\n      <td>2</td>\n      <td>CPI Mexico 2018</td>\n      <td>4.83 %</td>\n      <td>NaN</td>\n      <td>CPI Mexico 2008</td>\n      <td>6.53 %</td>\n    </tr>\n    <tr>\n      <td>3</td>\n      <td>CPI Mexico 2017</td>\n      <td>6.77 %</td>\n      <td>NaN</td>\n      <td>CPI Mexico 2007</td>\n      <td>3.76 %</td>\n    </tr>\n    <tr>\n      <td>4</td>\n      <td>CPI Mexico 2016</td>\n      <td>3.36 %</td>\n      <td>NaN</td>\n      <td>CPI Mexico 2006</td>\n      <td>4.05 %</td>\n    </tr>\n    <tr>\n      <td>5</td>\n      <td>CPI Mexico 2015</td>\n      <td>2.13 %</td>\n      <td>NaN</td>\n      <td>CPI Mexico 2005</td>\n      <td>3.33 %</td>\n    </tr>\n    <tr>\n      <td>6</td>\n      <td>CPI Mexico 2014</td>\n      <td>4.08 %</td>\n      <td>NaN</td>\n      <td>CPI Mexico 2004</td>\n      <td>5.19 %</td>\n    </tr>\n    <tr>\n      <td>7</td>\n      <td>CPI Mexico 2013</td>\n      <td>3.97 %</td>\n      <td>NaN</td>\n      <td>CPI Mexico 2003</td>\n      <td>3.98 %</td>\n    </tr>\n    <tr>\n      <td>8</td>\n      <td>CPI Mexico 2012</td>\n      <td>3.57 %</td>\n      <td>NaN</td>\n      <td>CPI Mexico 2002</td>\n      <td>5.70 %</td>\n    </tr>\n    <tr>\n      <td>9</td>\n      <td>CPI Mexico 2011</td>\n      <td>3.82 %</td>\n      <td>NaN</td>\n      <td>CPI Mexico 2001</td>\n      <td>4.40 %</td>\n    </tr>\n    <tr>\n      <td>10</td>\n      <td>CPI Mexico 2010</td>\n      <td>4.40 %</td>\n      <td>NaN</td>\n      <td>CPI Mexico 2000</td>\n      <td>8.96 %</td>\n    </tr>\n  </tbody>\n</table>\n</div>"
     },
     "metadata": {},
     "execution_count": 61
    }
   ],
   "source": [
    "df2 = df.drop(0)\n",
    "df2"
   ]
  },
  {
   "cell_type": "code",
   "execution_count": 62,
   "metadata": {},
   "outputs": [
    {
     "output_type": "execute_result",
     "data": {
      "text/plain": "                  0       1\n1   CPI Mexico 2019  2.83 %\n2   CPI Mexico 2018  4.83 %\n3   CPI Mexico 2017  6.77 %\n4   CPI Mexico 2016  3.36 %\n5   CPI Mexico 2015  2.13 %\n6   CPI Mexico 2014  4.08 %\n7   CPI Mexico 2013  3.97 %\n8   CPI Mexico 2012  3.57 %\n9   CPI Mexico 2011  3.82 %\n10  CPI Mexico 2010  4.40 %",
      "text/html": "<div>\n<style scoped>\n    .dataframe tbody tr th:only-of-type {\n        vertical-align: middle;\n    }\n\n    .dataframe tbody tr th {\n        vertical-align: top;\n    }\n\n    .dataframe thead th {\n        text-align: right;\n    }\n</style>\n<table border=\"1\" class=\"dataframe\">\n  <thead>\n    <tr style=\"text-align: right;\">\n      <th></th>\n      <th>0</th>\n      <th>1</th>\n    </tr>\n  </thead>\n  <tbody>\n    <tr>\n      <td>1</td>\n      <td>CPI Mexico 2019</td>\n      <td>2.83 %</td>\n    </tr>\n    <tr>\n      <td>2</td>\n      <td>CPI Mexico 2018</td>\n      <td>4.83 %</td>\n    </tr>\n    <tr>\n      <td>3</td>\n      <td>CPI Mexico 2017</td>\n      <td>6.77 %</td>\n    </tr>\n    <tr>\n      <td>4</td>\n      <td>CPI Mexico 2016</td>\n      <td>3.36 %</td>\n    </tr>\n    <tr>\n      <td>5</td>\n      <td>CPI Mexico 2015</td>\n      <td>2.13 %</td>\n    </tr>\n    <tr>\n      <td>6</td>\n      <td>CPI Mexico 2014</td>\n      <td>4.08 %</td>\n    </tr>\n    <tr>\n      <td>7</td>\n      <td>CPI Mexico 2013</td>\n      <td>3.97 %</td>\n    </tr>\n    <tr>\n      <td>8</td>\n      <td>CPI Mexico 2012</td>\n      <td>3.57 %</td>\n    </tr>\n    <tr>\n      <td>9</td>\n      <td>CPI Mexico 2011</td>\n      <td>3.82 %</td>\n    </tr>\n    <tr>\n      <td>10</td>\n      <td>CPI Mexico 2010</td>\n      <td>4.40 %</td>\n    </tr>\n  </tbody>\n</table>\n</div>"
     },
     "metadata": {},
     "execution_count": 62
    }
   ],
   "source": [
    "df3 = df2[[0, 1]].copy()\n",
    "df3"
   ]
  },
  {
   "cell_type": "code",
   "execution_count": 63,
   "metadata": {},
   "outputs": [
    {
     "output_type": "execute_result",
     "data": {
      "text/plain": "                  3       4\n1   CPI Mexico 2009  3.57 %\n2   CPI Mexico 2008  6.53 %\n3   CPI Mexico 2007  3.76 %\n4   CPI Mexico 2006  4.05 %\n5   CPI Mexico 2005  3.33 %\n6   CPI Mexico 2004  5.19 %\n7   CPI Mexico 2003  3.98 %\n8   CPI Mexico 2002  5.70 %\n9   CPI Mexico 2001  4.40 %\n10  CPI Mexico 2000  8.96 %",
      "text/html": "<div>\n<style scoped>\n    .dataframe tbody tr th:only-of-type {\n        vertical-align: middle;\n    }\n\n    .dataframe tbody tr th {\n        vertical-align: top;\n    }\n\n    .dataframe thead th {\n        text-align: right;\n    }\n</style>\n<table border=\"1\" class=\"dataframe\">\n  <thead>\n    <tr style=\"text-align: right;\">\n      <th></th>\n      <th>3</th>\n      <th>4</th>\n    </tr>\n  </thead>\n  <tbody>\n    <tr>\n      <td>1</td>\n      <td>CPI Mexico 2009</td>\n      <td>3.57 %</td>\n    </tr>\n    <tr>\n      <td>2</td>\n      <td>CPI Mexico 2008</td>\n      <td>6.53 %</td>\n    </tr>\n    <tr>\n      <td>3</td>\n      <td>CPI Mexico 2007</td>\n      <td>3.76 %</td>\n    </tr>\n    <tr>\n      <td>4</td>\n      <td>CPI Mexico 2006</td>\n      <td>4.05 %</td>\n    </tr>\n    <tr>\n      <td>5</td>\n      <td>CPI Mexico 2005</td>\n      <td>3.33 %</td>\n    </tr>\n    <tr>\n      <td>6</td>\n      <td>CPI Mexico 2004</td>\n      <td>5.19 %</td>\n    </tr>\n    <tr>\n      <td>7</td>\n      <td>CPI Mexico 2003</td>\n      <td>3.98 %</td>\n    </tr>\n    <tr>\n      <td>8</td>\n      <td>CPI Mexico 2002</td>\n      <td>5.70 %</td>\n    </tr>\n    <tr>\n      <td>9</td>\n      <td>CPI Mexico 2001</td>\n      <td>4.40 %</td>\n    </tr>\n    <tr>\n      <td>10</td>\n      <td>CPI Mexico 2000</td>\n      <td>8.96 %</td>\n    </tr>\n  </tbody>\n</table>\n</div>"
     },
     "metadata": {},
     "execution_count": 63
    }
   ],
   "source": [
    "df4 = df2[[3, 4]].copy()\n",
    "df4"
   ]
  },
  {
   "cell_type": "code",
   "execution_count": 64,
   "metadata": {},
   "outputs": [
    {
     "output_type": "execute_result",
     "data": {
      "text/plain": "                  0       1\n1   CPI Mexico 2009  3.57 %\n2   CPI Mexico 2008  6.53 %\n3   CPI Mexico 2007  3.76 %\n4   CPI Mexico 2006  4.05 %\n5   CPI Mexico 2005  3.33 %\n6   CPI Mexico 2004  5.19 %\n7   CPI Mexico 2003  3.98 %\n8   CPI Mexico 2002  5.70 %\n9   CPI Mexico 2001  4.40 %\n10  CPI Mexico 2000  8.96 %",
      "text/html": "<div>\n<style scoped>\n    .dataframe tbody tr th:only-of-type {\n        vertical-align: middle;\n    }\n\n    .dataframe tbody tr th {\n        vertical-align: top;\n    }\n\n    .dataframe thead th {\n        text-align: right;\n    }\n</style>\n<table border=\"1\" class=\"dataframe\">\n  <thead>\n    <tr style=\"text-align: right;\">\n      <th></th>\n      <th>0</th>\n      <th>1</th>\n    </tr>\n  </thead>\n  <tbody>\n    <tr>\n      <td>1</td>\n      <td>CPI Mexico 2009</td>\n      <td>3.57 %</td>\n    </tr>\n    <tr>\n      <td>2</td>\n      <td>CPI Mexico 2008</td>\n      <td>6.53 %</td>\n    </tr>\n    <tr>\n      <td>3</td>\n      <td>CPI Mexico 2007</td>\n      <td>3.76 %</td>\n    </tr>\n    <tr>\n      <td>4</td>\n      <td>CPI Mexico 2006</td>\n      <td>4.05 %</td>\n    </tr>\n    <tr>\n      <td>5</td>\n      <td>CPI Mexico 2005</td>\n      <td>3.33 %</td>\n    </tr>\n    <tr>\n      <td>6</td>\n      <td>CPI Mexico 2004</td>\n      <td>5.19 %</td>\n    </tr>\n    <tr>\n      <td>7</td>\n      <td>CPI Mexico 2003</td>\n      <td>3.98 %</td>\n    </tr>\n    <tr>\n      <td>8</td>\n      <td>CPI Mexico 2002</td>\n      <td>5.70 %</td>\n    </tr>\n    <tr>\n      <td>9</td>\n      <td>CPI Mexico 2001</td>\n      <td>4.40 %</td>\n    </tr>\n    <tr>\n      <td>10</td>\n      <td>CPI Mexico 2000</td>\n      <td>8.96 %</td>\n    </tr>\n  </tbody>\n</table>\n</div>"
     },
     "metadata": {},
     "execution_count": 64
    }
   ],
   "source": [
    "df4 = df4.rename(columns={3:0,4:1})\n",
    "df4"
   ]
  },
  {
   "cell_type": "code",
   "execution_count": 65,
   "metadata": {},
   "outputs": [
    {
     "output_type": "execute_result",
     "data": {
      "text/plain": "                  0       1\n0   CPI Mexico 2019  2.83 %\n1   CPI Mexico 2018  4.83 %\n2   CPI Mexico 2017  6.77 %\n3   CPI Mexico 2016  3.36 %\n4   CPI Mexico 2015  2.13 %\n5   CPI Mexico 2014  4.08 %\n6   CPI Mexico 2013  3.97 %\n7   CPI Mexico 2012  3.57 %\n8   CPI Mexico 2011  3.82 %\n9   CPI Mexico 2010  4.40 %\n10  CPI Mexico 2009  3.57 %\n11  CPI Mexico 2008  6.53 %\n12  CPI Mexico 2007  3.76 %\n13  CPI Mexico 2006  4.05 %\n14  CPI Mexico 2005  3.33 %\n15  CPI Mexico 2004  5.19 %\n16  CPI Mexico 2003  3.98 %\n17  CPI Mexico 2002  5.70 %\n18  CPI Mexico 2001  4.40 %\n19  CPI Mexico 2000  8.96 %",
      "text/html": "<div>\n<style scoped>\n    .dataframe tbody tr th:only-of-type {\n        vertical-align: middle;\n    }\n\n    .dataframe tbody tr th {\n        vertical-align: top;\n    }\n\n    .dataframe thead th {\n        text-align: right;\n    }\n</style>\n<table border=\"1\" class=\"dataframe\">\n  <thead>\n    <tr style=\"text-align: right;\">\n      <th></th>\n      <th>0</th>\n      <th>1</th>\n    </tr>\n  </thead>\n  <tbody>\n    <tr>\n      <td>0</td>\n      <td>CPI Mexico 2019</td>\n      <td>2.83 %</td>\n    </tr>\n    <tr>\n      <td>1</td>\n      <td>CPI Mexico 2018</td>\n      <td>4.83 %</td>\n    </tr>\n    <tr>\n      <td>2</td>\n      <td>CPI Mexico 2017</td>\n      <td>6.77 %</td>\n    </tr>\n    <tr>\n      <td>3</td>\n      <td>CPI Mexico 2016</td>\n      <td>3.36 %</td>\n    </tr>\n    <tr>\n      <td>4</td>\n      <td>CPI Mexico 2015</td>\n      <td>2.13 %</td>\n    </tr>\n    <tr>\n      <td>5</td>\n      <td>CPI Mexico 2014</td>\n      <td>4.08 %</td>\n    </tr>\n    <tr>\n      <td>6</td>\n      <td>CPI Mexico 2013</td>\n      <td>3.97 %</td>\n    </tr>\n    <tr>\n      <td>7</td>\n      <td>CPI Mexico 2012</td>\n      <td>3.57 %</td>\n    </tr>\n    <tr>\n      <td>8</td>\n      <td>CPI Mexico 2011</td>\n      <td>3.82 %</td>\n    </tr>\n    <tr>\n      <td>9</td>\n      <td>CPI Mexico 2010</td>\n      <td>4.40 %</td>\n    </tr>\n    <tr>\n      <td>10</td>\n      <td>CPI Mexico 2009</td>\n      <td>3.57 %</td>\n    </tr>\n    <tr>\n      <td>11</td>\n      <td>CPI Mexico 2008</td>\n      <td>6.53 %</td>\n    </tr>\n    <tr>\n      <td>12</td>\n      <td>CPI Mexico 2007</td>\n      <td>3.76 %</td>\n    </tr>\n    <tr>\n      <td>13</td>\n      <td>CPI Mexico 2006</td>\n      <td>4.05 %</td>\n    </tr>\n    <tr>\n      <td>14</td>\n      <td>CPI Mexico 2005</td>\n      <td>3.33 %</td>\n    </tr>\n    <tr>\n      <td>15</td>\n      <td>CPI Mexico 2004</td>\n      <td>5.19 %</td>\n    </tr>\n    <tr>\n      <td>16</td>\n      <td>CPI Mexico 2003</td>\n      <td>3.98 %</td>\n    </tr>\n    <tr>\n      <td>17</td>\n      <td>CPI Mexico 2002</td>\n      <td>5.70 %</td>\n    </tr>\n    <tr>\n      <td>18</td>\n      <td>CPI Mexico 2001</td>\n      <td>4.40 %</td>\n    </tr>\n    <tr>\n      <td>19</td>\n      <td>CPI Mexico 2000</td>\n      <td>8.96 %</td>\n    </tr>\n  </tbody>\n</table>\n</div>"
     },
     "metadata": {},
     "execution_count": 65
    }
   ],
   "source": [
    "df5 = df3.append(df4, ignore_index = True)\n",
    "df5"
   ]
  },
  {
   "cell_type": "code",
   "execution_count": 66,
   "metadata": {},
   "outputs": [
    {
     "output_type": "execute_result",
     "data": {
      "text/plain": "       0       1\n0   2019  2.83 %\n1   2018  4.83 %\n2   2017  6.77 %\n3   2016  3.36 %\n4   2015  2.13 %\n5   2014  4.08 %\n6   2013  3.97 %\n7   2012  3.57 %\n8   2011  3.82 %\n9   2010  4.40 %\n10  2009  3.57 %\n11  2008  6.53 %\n12  2007  3.76 %\n13  2006  4.05 %\n14  2005  3.33 %\n15  2004  5.19 %\n16  2003  3.98 %\n17  2002  5.70 %\n18  2001  4.40 %\n19  2000  8.96 %",
      "text/html": "<div>\n<style scoped>\n    .dataframe tbody tr th:only-of-type {\n        vertical-align: middle;\n    }\n\n    .dataframe tbody tr th {\n        vertical-align: top;\n    }\n\n    .dataframe thead th {\n        text-align: right;\n    }\n</style>\n<table border=\"1\" class=\"dataframe\">\n  <thead>\n    <tr style=\"text-align: right;\">\n      <th></th>\n      <th>0</th>\n      <th>1</th>\n    </tr>\n  </thead>\n  <tbody>\n    <tr>\n      <td>0</td>\n      <td>2019</td>\n      <td>2.83 %</td>\n    </tr>\n    <tr>\n      <td>1</td>\n      <td>2018</td>\n      <td>4.83 %</td>\n    </tr>\n    <tr>\n      <td>2</td>\n      <td>2017</td>\n      <td>6.77 %</td>\n    </tr>\n    <tr>\n      <td>3</td>\n      <td>2016</td>\n      <td>3.36 %</td>\n    </tr>\n    <tr>\n      <td>4</td>\n      <td>2015</td>\n      <td>2.13 %</td>\n    </tr>\n    <tr>\n      <td>5</td>\n      <td>2014</td>\n      <td>4.08 %</td>\n    </tr>\n    <tr>\n      <td>6</td>\n      <td>2013</td>\n      <td>3.97 %</td>\n    </tr>\n    <tr>\n      <td>7</td>\n      <td>2012</td>\n      <td>3.57 %</td>\n    </tr>\n    <tr>\n      <td>8</td>\n      <td>2011</td>\n      <td>3.82 %</td>\n    </tr>\n    <tr>\n      <td>9</td>\n      <td>2010</td>\n      <td>4.40 %</td>\n    </tr>\n    <tr>\n      <td>10</td>\n      <td>2009</td>\n      <td>3.57 %</td>\n    </tr>\n    <tr>\n      <td>11</td>\n      <td>2008</td>\n      <td>6.53 %</td>\n    </tr>\n    <tr>\n      <td>12</td>\n      <td>2007</td>\n      <td>3.76 %</td>\n    </tr>\n    <tr>\n      <td>13</td>\n      <td>2006</td>\n      <td>4.05 %</td>\n    </tr>\n    <tr>\n      <td>14</td>\n      <td>2005</td>\n      <td>3.33 %</td>\n    </tr>\n    <tr>\n      <td>15</td>\n      <td>2004</td>\n      <td>5.19 %</td>\n    </tr>\n    <tr>\n      <td>16</td>\n      <td>2003</td>\n      <td>3.98 %</td>\n    </tr>\n    <tr>\n      <td>17</td>\n      <td>2002</td>\n      <td>5.70 %</td>\n    </tr>\n    <tr>\n      <td>18</td>\n      <td>2001</td>\n      <td>4.40 %</td>\n    </tr>\n    <tr>\n      <td>19</td>\n      <td>2000</td>\n      <td>8.96 %</td>\n    </tr>\n  </tbody>\n</table>\n</div>"
     },
     "metadata": {},
     "execution_count": 66
    }
   ],
   "source": [
    "df5[0] = df5[0].replace(regex=[r'^ba.$', 'CPI Mexico '], value='')\n",
    "df5"
   ]
  },
  {
   "cell_type": "code",
   "execution_count": 67,
   "metadata": {},
   "outputs": [
    {
     "output_type": "execute_result",
     "data": {
      "text/plain": "    year inflation\n0   2019    2.83 %\n1   2018    4.83 %\n2   2017    6.77 %\n3   2016    3.36 %\n4   2015    2.13 %\n5   2014    4.08 %\n6   2013    3.97 %\n7   2012    3.57 %\n8   2011    3.82 %\n9   2010    4.40 %\n10  2009    3.57 %\n11  2008    6.53 %\n12  2007    3.76 %\n13  2006    4.05 %\n14  2005    3.33 %\n15  2004    5.19 %\n16  2003    3.98 %\n17  2002    5.70 %\n18  2001    4.40 %\n19  2000    8.96 %",
      "text/html": "<div>\n<style scoped>\n    .dataframe tbody tr th:only-of-type {\n        vertical-align: middle;\n    }\n\n    .dataframe tbody tr th {\n        vertical-align: top;\n    }\n\n    .dataframe thead th {\n        text-align: right;\n    }\n</style>\n<table border=\"1\" class=\"dataframe\">\n  <thead>\n    <tr style=\"text-align: right;\">\n      <th></th>\n      <th>year</th>\n      <th>inflation</th>\n    </tr>\n  </thead>\n  <tbody>\n    <tr>\n      <td>0</td>\n      <td>2019</td>\n      <td>2.83 %</td>\n    </tr>\n    <tr>\n      <td>1</td>\n      <td>2018</td>\n      <td>4.83 %</td>\n    </tr>\n    <tr>\n      <td>2</td>\n      <td>2017</td>\n      <td>6.77 %</td>\n    </tr>\n    <tr>\n      <td>3</td>\n      <td>2016</td>\n      <td>3.36 %</td>\n    </tr>\n    <tr>\n      <td>4</td>\n      <td>2015</td>\n      <td>2.13 %</td>\n    </tr>\n    <tr>\n      <td>5</td>\n      <td>2014</td>\n      <td>4.08 %</td>\n    </tr>\n    <tr>\n      <td>6</td>\n      <td>2013</td>\n      <td>3.97 %</td>\n    </tr>\n    <tr>\n      <td>7</td>\n      <td>2012</td>\n      <td>3.57 %</td>\n    </tr>\n    <tr>\n      <td>8</td>\n      <td>2011</td>\n      <td>3.82 %</td>\n    </tr>\n    <tr>\n      <td>9</td>\n      <td>2010</td>\n      <td>4.40 %</td>\n    </tr>\n    <tr>\n      <td>10</td>\n      <td>2009</td>\n      <td>3.57 %</td>\n    </tr>\n    <tr>\n      <td>11</td>\n      <td>2008</td>\n      <td>6.53 %</td>\n    </tr>\n    <tr>\n      <td>12</td>\n      <td>2007</td>\n      <td>3.76 %</td>\n    </tr>\n    <tr>\n      <td>13</td>\n      <td>2006</td>\n      <td>4.05 %</td>\n    </tr>\n    <tr>\n      <td>14</td>\n      <td>2005</td>\n      <td>3.33 %</td>\n    </tr>\n    <tr>\n      <td>15</td>\n      <td>2004</td>\n      <td>5.19 %</td>\n    </tr>\n    <tr>\n      <td>16</td>\n      <td>2003</td>\n      <td>3.98 %</td>\n    </tr>\n    <tr>\n      <td>17</td>\n      <td>2002</td>\n      <td>5.70 %</td>\n    </tr>\n    <tr>\n      <td>18</td>\n      <td>2001</td>\n      <td>4.40 %</td>\n    </tr>\n    <tr>\n      <td>19</td>\n      <td>2000</td>\n      <td>8.96 %</td>\n    </tr>\n  </tbody>\n</table>\n</div>"
     },
     "metadata": {},
     "execution_count": 67
    }
   ],
   "source": [
    "df5 = df5.rename(columns={0:'year', 1:'inflation'})\n",
    "df5"
   ]
  },
  {
   "cell_type": "code",
   "execution_count": 68,
   "metadata": {},
   "outputs": [
    {
     "output_type": "execute_result",
     "data": {
      "text/plain": "year         object\ninflation    object\ndtype: object"
     },
     "metadata": {},
     "execution_count": 68
    }
   ],
   "source": [
    "df5.dtypes"
   ]
  },
  {
   "cell_type": "code",
   "execution_count": 69,
   "metadata": {},
   "outputs": [
    {
     "output_type": "execute_result",
     "data": {
      "text/plain": "    year inflation\n0   2019     2.83 \n1   2018     4.83 \n2   2017     6.77 \n3   2016     3.36 \n4   2015     2.13 \n5   2014     4.08 \n6   2013     3.97 \n7   2012     3.57 \n8   2011     3.82 \n9   2010     4.40 \n10  2009     3.57 \n11  2008     6.53 \n12  2007     3.76 \n13  2006     4.05 \n14  2005     3.33 \n15  2004     5.19 \n16  2003     3.98 \n17  2002     5.70 \n18  2001     4.40 \n19  2000     8.96 ",
      "text/html": "<div>\n<style scoped>\n    .dataframe tbody tr th:only-of-type {\n        vertical-align: middle;\n    }\n\n    .dataframe tbody tr th {\n        vertical-align: top;\n    }\n\n    .dataframe thead th {\n        text-align: right;\n    }\n</style>\n<table border=\"1\" class=\"dataframe\">\n  <thead>\n    <tr style=\"text-align: right;\">\n      <th></th>\n      <th>year</th>\n      <th>inflation</th>\n    </tr>\n  </thead>\n  <tbody>\n    <tr>\n      <td>0</td>\n      <td>2019</td>\n      <td>2.83</td>\n    </tr>\n    <tr>\n      <td>1</td>\n      <td>2018</td>\n      <td>4.83</td>\n    </tr>\n    <tr>\n      <td>2</td>\n      <td>2017</td>\n      <td>6.77</td>\n    </tr>\n    <tr>\n      <td>3</td>\n      <td>2016</td>\n      <td>3.36</td>\n    </tr>\n    <tr>\n      <td>4</td>\n      <td>2015</td>\n      <td>2.13</td>\n    </tr>\n    <tr>\n      <td>5</td>\n      <td>2014</td>\n      <td>4.08</td>\n    </tr>\n    <tr>\n      <td>6</td>\n      <td>2013</td>\n      <td>3.97</td>\n    </tr>\n    <tr>\n      <td>7</td>\n      <td>2012</td>\n      <td>3.57</td>\n    </tr>\n    <tr>\n      <td>8</td>\n      <td>2011</td>\n      <td>3.82</td>\n    </tr>\n    <tr>\n      <td>9</td>\n      <td>2010</td>\n      <td>4.40</td>\n    </tr>\n    <tr>\n      <td>10</td>\n      <td>2009</td>\n      <td>3.57</td>\n    </tr>\n    <tr>\n      <td>11</td>\n      <td>2008</td>\n      <td>6.53</td>\n    </tr>\n    <tr>\n      <td>12</td>\n      <td>2007</td>\n      <td>3.76</td>\n    </tr>\n    <tr>\n      <td>13</td>\n      <td>2006</td>\n      <td>4.05</td>\n    </tr>\n    <tr>\n      <td>14</td>\n      <td>2005</td>\n      <td>3.33</td>\n    </tr>\n    <tr>\n      <td>15</td>\n      <td>2004</td>\n      <td>5.19</td>\n    </tr>\n    <tr>\n      <td>16</td>\n      <td>2003</td>\n      <td>3.98</td>\n    </tr>\n    <tr>\n      <td>17</td>\n      <td>2002</td>\n      <td>5.70</td>\n    </tr>\n    <tr>\n      <td>18</td>\n      <td>2001</td>\n      <td>4.40</td>\n    </tr>\n    <tr>\n      <td>19</td>\n      <td>2000</td>\n      <td>8.96</td>\n    </tr>\n  </tbody>\n</table>\n</div>"
     },
     "metadata": {},
     "execution_count": 69
    }
   ],
   "source": [
    "df5['inflation'] = df5['inflation'].replace(regex=[r'^ba.$', '%'], value='')\n",
    "df5"
   ]
  },
  {
   "cell_type": "code",
   "execution_count": 70,
   "metadata": {},
   "outputs": [
    {
     "output_type": "execute_result",
     "data": {
      "text/plain": "    year  inflation\n0   2019       2.83\n1   2018       4.83\n2   2017       6.77\n3   2016       3.36\n4   2015       2.13\n5   2014       4.08\n6   2013       3.97\n7   2012       3.57\n8   2011       3.82\n9   2010       4.40\n10  2009       3.57\n11  2008       6.53\n12  2007       3.76\n13  2006       4.05\n14  2005       3.33\n15  2004       5.19\n16  2003       3.98\n17  2002       5.70\n18  2001       4.40\n19  2000       8.96",
      "text/html": "<div>\n<style scoped>\n    .dataframe tbody tr th:only-of-type {\n        vertical-align: middle;\n    }\n\n    .dataframe tbody tr th {\n        vertical-align: top;\n    }\n\n    .dataframe thead th {\n        text-align: right;\n    }\n</style>\n<table border=\"1\" class=\"dataframe\">\n  <thead>\n    <tr style=\"text-align: right;\">\n      <th></th>\n      <th>year</th>\n      <th>inflation</th>\n    </tr>\n  </thead>\n  <tbody>\n    <tr>\n      <td>0</td>\n      <td>2019</td>\n      <td>2.83</td>\n    </tr>\n    <tr>\n      <td>1</td>\n      <td>2018</td>\n      <td>4.83</td>\n    </tr>\n    <tr>\n      <td>2</td>\n      <td>2017</td>\n      <td>6.77</td>\n    </tr>\n    <tr>\n      <td>3</td>\n      <td>2016</td>\n      <td>3.36</td>\n    </tr>\n    <tr>\n      <td>4</td>\n      <td>2015</td>\n      <td>2.13</td>\n    </tr>\n    <tr>\n      <td>5</td>\n      <td>2014</td>\n      <td>4.08</td>\n    </tr>\n    <tr>\n      <td>6</td>\n      <td>2013</td>\n      <td>3.97</td>\n    </tr>\n    <tr>\n      <td>7</td>\n      <td>2012</td>\n      <td>3.57</td>\n    </tr>\n    <tr>\n      <td>8</td>\n      <td>2011</td>\n      <td>3.82</td>\n    </tr>\n    <tr>\n      <td>9</td>\n      <td>2010</td>\n      <td>4.40</td>\n    </tr>\n    <tr>\n      <td>10</td>\n      <td>2009</td>\n      <td>3.57</td>\n    </tr>\n    <tr>\n      <td>11</td>\n      <td>2008</td>\n      <td>6.53</td>\n    </tr>\n    <tr>\n      <td>12</td>\n      <td>2007</td>\n      <td>3.76</td>\n    </tr>\n    <tr>\n      <td>13</td>\n      <td>2006</td>\n      <td>4.05</td>\n    </tr>\n    <tr>\n      <td>14</td>\n      <td>2005</td>\n      <td>3.33</td>\n    </tr>\n    <tr>\n      <td>15</td>\n      <td>2004</td>\n      <td>5.19</td>\n    </tr>\n    <tr>\n      <td>16</td>\n      <td>2003</td>\n      <td>3.98</td>\n    </tr>\n    <tr>\n      <td>17</td>\n      <td>2002</td>\n      <td>5.70</td>\n    </tr>\n    <tr>\n      <td>18</td>\n      <td>2001</td>\n      <td>4.40</td>\n    </tr>\n    <tr>\n      <td>19</td>\n      <td>2000</td>\n      <td>8.96</td>\n    </tr>\n  </tbody>\n</table>\n</div>"
     },
     "metadata": {},
     "execution_count": 70
    }
   ],
   "source": [
    "df5['inflation'] = df5['inflation'].astype('float64')\n",
    "df5"
   ]
  },
  {
   "cell_type": "code",
   "execution_count": 71,
   "metadata": {},
   "outputs": [],
   "source": [
    "connection_string = \"postgres:Ichliebe1*@localhost:5432/Project2\"\n",
    "engine = create_engine(f'postgresql://{connection_string}')"
   ]
  },
  {
   "cell_type": "code",
   "execution_count": 72,
   "metadata": {},
   "outputs": [
    {
     "output_type": "execute_result",
     "data": {
      "text/plain": "['gdp', 'inflation']"
     },
     "metadata": {},
     "execution_count": 72
    }
   ],
   "source": [
    "engine.table_names()"
   ]
  },
  {
   "cell_type": "code",
   "execution_count": 73,
   "metadata": {},
   "outputs": [],
   "source": [
    "df5.to_sql(name='inflation', con=engine, if_exists='append', index=False)"
   ]
  },
  {
   "cell_type": "code",
   "execution_count": 74,
   "metadata": {},
   "outputs": [
    {
     "output_type": "execute_result",
     "data": {
      "text/plain": "    index  year  inflation\n0       1  2019       2.83\n1       2  2018       4.83\n2       3  2017       6.77\n3       4  2016       3.36\n4       5  2015       2.13\n5       6  2014       4.08\n6       7  2013       3.97\n7       8  2012       3.57\n8       9  2011       3.82\n9      10  2010       4.40\n10     11  2009       3.57\n11     12  2008       6.53\n12     13  2007       3.76\n13     14  2006       4.05\n14     15  2005       3.33\n15     16  2004       5.19\n16     17  2003       3.98\n17     18  2002       5.70\n18     19  2001       4.40\n19     20  2000       8.96",
      "text/html": "<div>\n<style scoped>\n    .dataframe tbody tr th:only-of-type {\n        vertical-align: middle;\n    }\n\n    .dataframe tbody tr th {\n        vertical-align: top;\n    }\n\n    .dataframe thead th {\n        text-align: right;\n    }\n</style>\n<table border=\"1\" class=\"dataframe\">\n  <thead>\n    <tr style=\"text-align: right;\">\n      <th></th>\n      <th>index</th>\n      <th>year</th>\n      <th>inflation</th>\n    </tr>\n  </thead>\n  <tbody>\n    <tr>\n      <td>0</td>\n      <td>1</td>\n      <td>2019</td>\n      <td>2.83</td>\n    </tr>\n    <tr>\n      <td>1</td>\n      <td>2</td>\n      <td>2018</td>\n      <td>4.83</td>\n    </tr>\n    <tr>\n      <td>2</td>\n      <td>3</td>\n      <td>2017</td>\n      <td>6.77</td>\n    </tr>\n    <tr>\n      <td>3</td>\n      <td>4</td>\n      <td>2016</td>\n      <td>3.36</td>\n    </tr>\n    <tr>\n      <td>4</td>\n      <td>5</td>\n      <td>2015</td>\n      <td>2.13</td>\n    </tr>\n    <tr>\n      <td>5</td>\n      <td>6</td>\n      <td>2014</td>\n      <td>4.08</td>\n    </tr>\n    <tr>\n      <td>6</td>\n      <td>7</td>\n      <td>2013</td>\n      <td>3.97</td>\n    </tr>\n    <tr>\n      <td>7</td>\n      <td>8</td>\n      <td>2012</td>\n      <td>3.57</td>\n    </tr>\n    <tr>\n      <td>8</td>\n      <td>9</td>\n      <td>2011</td>\n      <td>3.82</td>\n    </tr>\n    <tr>\n      <td>9</td>\n      <td>10</td>\n      <td>2010</td>\n      <td>4.40</td>\n    </tr>\n    <tr>\n      <td>10</td>\n      <td>11</td>\n      <td>2009</td>\n      <td>3.57</td>\n    </tr>\n    <tr>\n      <td>11</td>\n      <td>12</td>\n      <td>2008</td>\n      <td>6.53</td>\n    </tr>\n    <tr>\n      <td>12</td>\n      <td>13</td>\n      <td>2007</td>\n      <td>3.76</td>\n    </tr>\n    <tr>\n      <td>13</td>\n      <td>14</td>\n      <td>2006</td>\n      <td>4.05</td>\n    </tr>\n    <tr>\n      <td>14</td>\n      <td>15</td>\n      <td>2005</td>\n      <td>3.33</td>\n    </tr>\n    <tr>\n      <td>15</td>\n      <td>16</td>\n      <td>2004</td>\n      <td>5.19</td>\n    </tr>\n    <tr>\n      <td>16</td>\n      <td>17</td>\n      <td>2003</td>\n      <td>3.98</td>\n    </tr>\n    <tr>\n      <td>17</td>\n      <td>18</td>\n      <td>2002</td>\n      <td>5.70</td>\n    </tr>\n    <tr>\n      <td>18</td>\n      <td>19</td>\n      <td>2001</td>\n      <td>4.40</td>\n    </tr>\n    <tr>\n      <td>19</td>\n      <td>20</td>\n      <td>2000</td>\n      <td>8.96</td>\n    </tr>\n  </tbody>\n</table>\n</div>"
     },
     "metadata": {},
     "execution_count": 74
    }
   ],
   "source": [
    "pd.read_sql_query('select * from inflation', con=engine)"
   ]
  },
  {
   "cell_type": "code",
   "execution_count": null,
   "metadata": {},
   "outputs": [],
   "source": []
  }
 ],
 "metadata": {
  "kernelspec": {
   "display_name": "Python 3",
   "language": "python",
   "name": "python3"
  },
  "language_info": {
   "codemirror_mode": {
    "name": "ipython",
    "version": 3
   },
   "file_extension": ".py",
   "mimetype": "text/x-python",
   "name": "python",
   "nbconvert_exporter": "python",
   "pygments_lexer": "ipython3",
   "version": "3.7.4-final"
  }
 },
 "nbformat": 4,
 "nbformat_minor": 4
}