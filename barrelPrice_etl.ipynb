{
 "nbformat": 4,
 "nbformat_minor": 2,
 "metadata": {
  "language_info": {
   "name": "python",
   "codemirror_mode": {
    "name": "ipython",
    "version": 3
   },
   "version": "3.7.4-final"
  },
  "orig_nbformat": 2,
  "file_extension": ".py",
  "mimetype": "text/x-python",
  "name": "python",
  "npconvert_exporter": "python",
  "pygments_lexer": "ipython3",
  "version": 3,
  "kernelspec": {
   "name": "python37464bitbaseconda621df6d49d2c4311a89d7503a44084b1",
   "display_name": "Python 3.7.4 64-bit ('base': conda)"
  }
 },
 "cells": [
  {
   "cell_type": "code",
   "execution_count": 1,
   "metadata": {},
   "outputs": [],
   "source": [
    "import pandas as pd\n",
    "from sqlalchemy import create_engine\n",
    "import numpy as np\n",
    "import datetime"
   ]
  },
  {
   "cell_type": "code",
   "execution_count": 2,
   "metadata": {},
   "outputs": [
    {
     "output_type": "stream",
     "name": "stdout",
     "text": "6335\nFecha    object\nSI744    object\ndtype: object\n"
    },
    {
     "output_type": "execute_result",
     "data": {
      "text/plain": "        Fecha  SI744\n0  01/01/1996    N/E\n1  02/01/1996    N/E\n2  03/01/1996  17.40\n3  04/01/1996  17.41\n4  05/01/1996  17.70",
      "text/html": "<div>\n<style scoped>\n    .dataframe tbody tr th:only-of-type {\n        vertical-align: middle;\n    }\n\n    .dataframe tbody tr th {\n        vertical-align: top;\n    }\n\n    .dataframe thead th {\n        text-align: right;\n    }\n</style>\n<table border=\"1\" class=\"dataframe\">\n  <thead>\n    <tr style=\"text-align: right;\">\n      <th></th>\n      <th>Fecha</th>\n      <th>SI744</th>\n    </tr>\n  </thead>\n  <tbody>\n    <tr>\n      <td>0</td>\n      <td>01/01/1996</td>\n      <td>N/E</td>\n    </tr>\n    <tr>\n      <td>1</td>\n      <td>02/01/1996</td>\n      <td>N/E</td>\n    </tr>\n    <tr>\n      <td>2</td>\n      <td>03/01/1996</td>\n      <td>17.40</td>\n    </tr>\n    <tr>\n      <td>3</td>\n      <td>04/01/1996</td>\n      <td>17.41</td>\n    </tr>\n    <tr>\n      <td>4</td>\n      <td>05/01/1996</td>\n      <td>17.70</td>\n    </tr>\n  </tbody>\n</table>\n</div>"
     },
     "metadata": {},
     "execution_count": 2
    }
   ],
   "source": [
    "#Extract CSV  into DataFrame\n",
    "barrelPrice_csv = \"Consulta_Precio_Barril_Petroleo.csv\"\n",
    "barrelPrice_df = pd.read_csv(barrelPrice_csv)\n",
    "print(len(barrelPrice_df))\n",
    "print(barrelPrice_df.dtypes)\n",
    "barrelPrice_df.head()\n",
    ""
   ]
  },
  {
   "cell_type": "code",
   "execution_count": 3,
   "metadata": {},
   "outputs": [
    {
     "output_type": "stream",
     "name": "stdout",
     "text": "Fecha    datetime64[ns]\nSI744            object\ndtype: object\n"
    },
    {
     "output_type": "execute_result",
     "data": {
      "text/plain": "       Fecha  SI744\n0 1996-01-01    N/E\n1 1996-01-02    N/E\n2 1996-01-03  17.40\n3 1996-01-04  17.41\n4 1996-01-05  17.70",
      "text/html": "<div>\n<style scoped>\n    .dataframe tbody tr th:only-of-type {\n        vertical-align: middle;\n    }\n\n    .dataframe tbody tr th {\n        vertical-align: top;\n    }\n\n    .dataframe thead th {\n        text-align: right;\n    }\n</style>\n<table border=\"1\" class=\"dataframe\">\n  <thead>\n    <tr style=\"text-align: right;\">\n      <th></th>\n      <th>Fecha</th>\n      <th>SI744</th>\n    </tr>\n  </thead>\n  <tbody>\n    <tr>\n      <td>0</td>\n      <td>1996-01-01</td>\n      <td>N/E</td>\n    </tr>\n    <tr>\n      <td>1</td>\n      <td>1996-01-02</td>\n      <td>N/E</td>\n    </tr>\n    <tr>\n      <td>2</td>\n      <td>1996-01-03</td>\n      <td>17.40</td>\n    </tr>\n    <tr>\n      <td>3</td>\n      <td>1996-01-04</td>\n      <td>17.41</td>\n    </tr>\n    <tr>\n      <td>4</td>\n      <td>1996-01-05</td>\n      <td>17.70</td>\n    </tr>\n  </tbody>\n</table>\n</div>"
     },
     "metadata": {},
     "execution_count": 3
    }
   ],
   "source": [
    "#Clean and Transform Dataframe\n",
    "#1. Change column \"fecha\"  into datetime format \n",
    "# datetime assumes original info has Month as its first element. Its necessary to include \"dayfirst=True\" so the method knows first value is the DAY.\n",
    "barrelPrice_df['Fecha']=pd.to_datetime(barrelPrice_df['Fecha'], dayfirst=True)\n",
    "\n",
    "print(barrelPrice_df.dtypes)\n",
    "barrelPrice_df.head()"
   ]
  },
  {
   "cell_type": "code",
   "execution_count": 4,
   "metadata": {},
   "outputs": [
    {
     "output_type": "stream",
     "name": "stdout",
     "text": "Int64Index([   0,    1,   16,   25,   27,   35,   43,   50,   58,   66,\n            ...\n            6215, 6225, 6238, 6239, 6256, 6257, 6262, 6275, 6295, 6334],\n           dtype='int64', length=582)\n5753\n"
    },
    {
     "output_type": "execute_result",
     "data": {
      "text/plain": "          Fecha  SI744\n2    1996-01-03  17.40\n3    1996-01-04  17.41\n4    1996-01-05  17.70\n5    1996-01-08  17.54\n6    1996-01-09  17.41\n...         ...    ...\n6329 2020-04-03  20.48\n6330 2020-04-06  18.66\n6331 2020-04-07  16.65\n6332 2020-04-08  17.89\n6333 2020-04-09  16.54\n\n[5753 rows x 2 columns]",
      "text/html": "<div>\n<style scoped>\n    .dataframe tbody tr th:only-of-type {\n        vertical-align: middle;\n    }\n\n    .dataframe tbody tr th {\n        vertical-align: top;\n    }\n\n    .dataframe thead th {\n        text-align: right;\n    }\n</style>\n<table border=\"1\" class=\"dataframe\">\n  <thead>\n    <tr style=\"text-align: right;\">\n      <th></th>\n      <th>Fecha</th>\n      <th>SI744</th>\n    </tr>\n  </thead>\n  <tbody>\n    <tr>\n      <td>2</td>\n      <td>1996-01-03</td>\n      <td>17.40</td>\n    </tr>\n    <tr>\n      <td>3</td>\n      <td>1996-01-04</td>\n      <td>17.41</td>\n    </tr>\n    <tr>\n      <td>4</td>\n      <td>1996-01-05</td>\n      <td>17.70</td>\n    </tr>\n    <tr>\n      <td>5</td>\n      <td>1996-01-08</td>\n      <td>17.54</td>\n    </tr>\n    <tr>\n      <td>6</td>\n      <td>1996-01-09</td>\n      <td>17.41</td>\n    </tr>\n    <tr>\n      <td>...</td>\n      <td>...</td>\n      <td>...</td>\n    </tr>\n    <tr>\n      <td>6329</td>\n      <td>2020-04-03</td>\n      <td>20.48</td>\n    </tr>\n    <tr>\n      <td>6330</td>\n      <td>2020-04-06</td>\n      <td>18.66</td>\n    </tr>\n    <tr>\n      <td>6331</td>\n      <td>2020-04-07</td>\n      <td>16.65</td>\n    </tr>\n    <tr>\n      <td>6332</td>\n      <td>2020-04-08</td>\n      <td>17.89</td>\n    </tr>\n    <tr>\n      <td>6333</td>\n      <td>2020-04-09</td>\n      <td>16.54</td>\n    </tr>\n  </tbody>\n</table>\n<p>5753 rows × 2 columns</p>\n</div>"
     },
     "metadata": {},
     "execution_count": 4
    }
   ],
   "source": [
    "#2. Eliminate NA values\n",
    "#Identify the rows with \"N/E\" value (by its index value)\n",
    "indexNames = barrelPrice_df[ barrelPrice_df['SI744'] == \"N/E\" ].index\n",
    "print(indexNames)\n",
    "\n",
    "# Delete these rows  from dataFrame, using the index value identified\n",
    "barrelPrice_df.drop(indexNames , inplace=True)\n",
    "print(len(barrelPrice_df))\n",
    "barrelPrice_df"
   ]
  },
  {
   "cell_type": "code",
   "execution_count": 5,
   "metadata": {},
   "outputs": [
    {
     "output_type": "stream",
     "name": "stdout",
     "text": "Fecha    datetime64[ns]\nSI744           float64\ndtype: object\n"
    },
    {
     "output_type": "execute_result",
     "data": {
      "text/plain": "          Fecha  SI744\n2    1996-01-03  17.40\n3    1996-01-04  17.41\n4    1996-01-05  17.70\n5    1996-01-08  17.54\n6    1996-01-09  17.41\n...         ...    ...\n6329 2020-04-03  20.48\n6330 2020-04-06  18.66\n6331 2020-04-07  16.65\n6332 2020-04-08  17.89\n6333 2020-04-09  16.54\n\n[5753 rows x 2 columns]",
      "text/html": "<div>\n<style scoped>\n    .dataframe tbody tr th:only-of-type {\n        vertical-align: middle;\n    }\n\n    .dataframe tbody tr th {\n        vertical-align: top;\n    }\n\n    .dataframe thead th {\n        text-align: right;\n    }\n</style>\n<table border=\"1\" class=\"dataframe\">\n  <thead>\n    <tr style=\"text-align: right;\">\n      <th></th>\n      <th>Fecha</th>\n      <th>SI744</th>\n    </tr>\n  </thead>\n  <tbody>\n    <tr>\n      <td>2</td>\n      <td>1996-01-03</td>\n      <td>17.40</td>\n    </tr>\n    <tr>\n      <td>3</td>\n      <td>1996-01-04</td>\n      <td>17.41</td>\n    </tr>\n    <tr>\n      <td>4</td>\n      <td>1996-01-05</td>\n      <td>17.70</td>\n    </tr>\n    <tr>\n      <td>5</td>\n      <td>1996-01-08</td>\n      <td>17.54</td>\n    </tr>\n    <tr>\n      <td>6</td>\n      <td>1996-01-09</td>\n      <td>17.41</td>\n    </tr>\n    <tr>\n      <td>...</td>\n      <td>...</td>\n      <td>...</td>\n    </tr>\n    <tr>\n      <td>6329</td>\n      <td>2020-04-03</td>\n      <td>20.48</td>\n    </tr>\n    <tr>\n      <td>6330</td>\n      <td>2020-04-06</td>\n      <td>18.66</td>\n    </tr>\n    <tr>\n      <td>6331</td>\n      <td>2020-04-07</td>\n      <td>16.65</td>\n    </tr>\n    <tr>\n      <td>6332</td>\n      <td>2020-04-08</td>\n      <td>17.89</td>\n    </tr>\n    <tr>\n      <td>6333</td>\n      <td>2020-04-09</td>\n      <td>16.54</td>\n    </tr>\n  </tbody>\n</table>\n<p>5753 rows × 2 columns</p>\n</div>"
     },
     "metadata": {},
     "execution_count": 5
    }
   ],
   "source": [
    "#3. Change \"SI744\" column into float format \n",
    "barrelPrice_df['SI744'] = barrelPrice_df['SI744'].astype('float64')\n",
    "print(barrelPrice_df.dtypes)\n",
    "barrelPrice_df"
   ]
  },
  {
   "cell_type": "code",
   "execution_count": 6,
   "metadata": {},
   "outputs": [
    {
     "output_type": "stream",
     "name": "stdout",
     "text": "Fecha     datetime64[ns]\nSI744            float64\nmonths            object\nyears             object\ndtype: object\n"
    },
    {
     "output_type": "execute_result",
     "data": {
      "text/plain": "          Fecha  SI744 months years\n2    1996-01-03  17.40     01  1996\n3    1996-01-04  17.41     01  1996\n4    1996-01-05  17.70     01  1996\n5    1996-01-08  17.54     01  1996\n6    1996-01-09  17.41     01  1996\n...         ...    ...    ...   ...\n6329 2020-04-03  20.48     04  2020\n6330 2020-04-06  18.66     04  2020\n6331 2020-04-07  16.65     04  2020\n6332 2020-04-08  17.89     04  2020\n6333 2020-04-09  16.54     04  2020\n\n[5753 rows x 4 columns]",
      "text/html": "<div>\n<style scoped>\n    .dataframe tbody tr th:only-of-type {\n        vertical-align: middle;\n    }\n\n    .dataframe tbody tr th {\n        vertical-align: top;\n    }\n\n    .dataframe thead th {\n        text-align: right;\n    }\n</style>\n<table border=\"1\" class=\"dataframe\">\n  <thead>\n    <tr style=\"text-align: right;\">\n      <th></th>\n      <th>Fecha</th>\n      <th>SI744</th>\n      <th>months</th>\n      <th>years</th>\n    </tr>\n  </thead>\n  <tbody>\n    <tr>\n      <td>2</td>\n      <td>1996-01-03</td>\n      <td>17.40</td>\n      <td>01</td>\n      <td>1996</td>\n    </tr>\n    <tr>\n      <td>3</td>\n      <td>1996-01-04</td>\n      <td>17.41</td>\n      <td>01</td>\n      <td>1996</td>\n    </tr>\n    <tr>\n      <td>4</td>\n      <td>1996-01-05</td>\n      <td>17.70</td>\n      <td>01</td>\n      <td>1996</td>\n    </tr>\n    <tr>\n      <td>5</td>\n      <td>1996-01-08</td>\n      <td>17.54</td>\n      <td>01</td>\n      <td>1996</td>\n    </tr>\n    <tr>\n      <td>6</td>\n      <td>1996-01-09</td>\n      <td>17.41</td>\n      <td>01</td>\n      <td>1996</td>\n    </tr>\n    <tr>\n      <td>...</td>\n      <td>...</td>\n      <td>...</td>\n      <td>...</td>\n      <td>...</td>\n    </tr>\n    <tr>\n      <td>6329</td>\n      <td>2020-04-03</td>\n      <td>20.48</td>\n      <td>04</td>\n      <td>2020</td>\n    </tr>\n    <tr>\n      <td>6330</td>\n      <td>2020-04-06</td>\n      <td>18.66</td>\n      <td>04</td>\n      <td>2020</td>\n    </tr>\n    <tr>\n      <td>6331</td>\n      <td>2020-04-07</td>\n      <td>16.65</td>\n      <td>04</td>\n      <td>2020</td>\n    </tr>\n    <tr>\n      <td>6332</td>\n      <td>2020-04-08</td>\n      <td>17.89</td>\n      <td>04</td>\n      <td>2020</td>\n    </tr>\n    <tr>\n      <td>6333</td>\n      <td>2020-04-09</td>\n      <td>16.54</td>\n      <td>04</td>\n      <td>2020</td>\n    </tr>\n  </tbody>\n</table>\n<p>5753 rows × 4 columns</p>\n</div>"
     },
     "metadata": {},
     "execution_count": 6
    }
   ],
   "source": [
    "# 4. Separate month and year into new columns\n",
    "barrelPrice_df[\"month\"]=barrelPrice_df.Fecha.dt.strftime('%m')\n",
    "barrelPrice_df[\"year\"]=barrelPrice_df.Fecha.dt.strftime('%Y')\n",
    "print(barrelPrice_df.dtypes)\n",
    "barrelPrice_df"
   ]
  },
  {
   "cell_type": "code",
   "execution_count": 7,
   "metadata": {},
   "outputs": [
    {
     "output_type": "execute_result",
     "data": {
      "text/plain": "                  SI744\nyears months           \n1996  01      16.273000\n      02      16.489412\n      03      18.317368\n      04      19.588947\n      05      17.798824\n...                 ...\n2019  12      54.906500\n2020  01      53.897143\n      02      45.386842\n      03      23.259545\n      04      16.697143\n\n[292 rows x 1 columns]",
      "text/html": "<div>\n<style scoped>\n    .dataframe tbody tr th:only-of-type {\n        vertical-align: middle;\n    }\n\n    .dataframe tbody tr th {\n        vertical-align: top;\n    }\n\n    .dataframe thead th {\n        text-align: right;\n    }\n</style>\n<table border=\"1\" class=\"dataframe\">\n  <thead>\n    <tr style=\"text-align: right;\">\n      <th></th>\n      <th></th>\n      <th>SI744</th>\n    </tr>\n    <tr>\n      <th>years</th>\n      <th>months</th>\n      <th></th>\n    </tr>\n  </thead>\n  <tbody>\n    <tr>\n      <td rowspan=\"5\" valign=\"top\">1996</td>\n      <td>01</td>\n      <td>16.273000</td>\n    </tr>\n    <tr>\n      <td>02</td>\n      <td>16.489412</td>\n    </tr>\n    <tr>\n      <td>03</td>\n      <td>18.317368</td>\n    </tr>\n    <tr>\n      <td>04</td>\n      <td>19.588947</td>\n    </tr>\n    <tr>\n      <td>05</td>\n      <td>17.798824</td>\n    </tr>\n    <tr>\n      <td>...</td>\n      <td>...</td>\n      <td>...</td>\n    </tr>\n    <tr>\n      <td>2019</td>\n      <td>12</td>\n      <td>54.906500</td>\n    </tr>\n    <tr>\n      <td rowspan=\"4\" valign=\"top\">2020</td>\n      <td>01</td>\n      <td>53.897143</td>\n    </tr>\n    <tr>\n      <td>02</td>\n      <td>45.386842</td>\n    </tr>\n    <tr>\n      <td>03</td>\n      <td>23.259545</td>\n    </tr>\n    <tr>\n      <td>04</td>\n      <td>16.697143</td>\n    </tr>\n  </tbody>\n</table>\n<p>292 rows × 1 columns</p>\n</div>"
     },
     "metadata": {},
     "execution_count": 7
    }
   ],
   "source": [
    "#5A. Find average barrel price per month, grouping by year and month - MEAN / reset_index  --> Final DF 292 rows (1 per month)\n",
    "#Create a copy of DF\n",
    "barrelPrice_df2=barrelPrice_df.copy()\n",
    "#Groupby and find average value\n",
    "barrelPrice_avg =barrelPrice_df2.groupby([\"year\",\"month\"]).mean()\n",
    "barrelPrice_avg"
   ]
  },
  {
   "cell_type": "code",
   "execution_count": 8,
   "metadata": {},
   "outputs": [
    {
     "output_type": "execute_result",
     "data": {
      "text/plain": "    years months      SI744\n0    1996     01  16.273000\n1    1996     02  16.489412\n2    1996     03  18.317368\n3    1996     04  19.588947\n4    1996     05  17.798824\n..    ...    ...        ...\n287  2019     12  54.906500\n288  2020     01  53.897143\n289  2020     02  45.386842\n290  2020     03  23.259545\n291  2020     04  16.697143\n\n[292 rows x 3 columns]",
      "text/html": "<div>\n<style scoped>\n    .dataframe tbody tr th:only-of-type {\n        vertical-align: middle;\n    }\n\n    .dataframe tbody tr th {\n        vertical-align: top;\n    }\n\n    .dataframe thead th {\n        text-align: right;\n    }\n</style>\n<table border=\"1\" class=\"dataframe\">\n  <thead>\n    <tr style=\"text-align: right;\">\n      <th></th>\n      <th>years</th>\n      <th>months</th>\n      <th>SI744</th>\n    </tr>\n  </thead>\n  <tbody>\n    <tr>\n      <td>0</td>\n      <td>1996</td>\n      <td>01</td>\n      <td>16.273000</td>\n    </tr>\n    <tr>\n      <td>1</td>\n      <td>1996</td>\n      <td>02</td>\n      <td>16.489412</td>\n    </tr>\n    <tr>\n      <td>2</td>\n      <td>1996</td>\n      <td>03</td>\n      <td>18.317368</td>\n    </tr>\n    <tr>\n      <td>3</td>\n      <td>1996</td>\n      <td>04</td>\n      <td>19.588947</td>\n    </tr>\n    <tr>\n      <td>4</td>\n      <td>1996</td>\n      <td>05</td>\n      <td>17.798824</td>\n    </tr>\n    <tr>\n      <td>...</td>\n      <td>...</td>\n      <td>...</td>\n      <td>...</td>\n    </tr>\n    <tr>\n      <td>287</td>\n      <td>2019</td>\n      <td>12</td>\n      <td>54.906500</td>\n    </tr>\n    <tr>\n      <td>288</td>\n      <td>2020</td>\n      <td>01</td>\n      <td>53.897143</td>\n    </tr>\n    <tr>\n      <td>289</td>\n      <td>2020</td>\n      <td>02</td>\n      <td>45.386842</td>\n    </tr>\n    <tr>\n      <td>290</td>\n      <td>2020</td>\n      <td>03</td>\n      <td>23.259545</td>\n    </tr>\n    <tr>\n      <td>291</td>\n      <td>2020</td>\n      <td>04</td>\n      <td>16.697143</td>\n    </tr>\n  </tbody>\n</table>\n<p>292 rows × 3 columns</p>\n</div>"
     },
     "metadata": {},
     "execution_count": 8
    }
   ],
   "source": [
    "#Create new DF by using Reset index \n",
    "barrelPrice_wAVG_df= barrelPrice_avg.reset_index()\n",
    "barrelPrice_wAVG_df"
   ]
  },
  {
   "cell_type": "code",
   "execution_count": 10,
   "metadata": {},
   "outputs": [
    {
     "output_type": "stream",
     "name": "stdout",
     "text": "id                    int64\nyears                object\nmonths               object\nbarrel_avg_price    float64\ndtype: object\n"
    },
    {
     "output_type": "execute_result",
     "data": {
      "text/plain": "      id years months  barrel_avg_price\n0      0  1996     01         16.273000\n1      1  1996     02         16.489412\n2      2  1996     03         18.317368\n3      3  1996     04         19.588947\n4      4  1996     05         17.798824\n..   ...   ...    ...               ...\n287  287  2019     12         54.906500\n288  288  2020     01         53.897143\n289  289  2020     02         45.386842\n290  290  2020     03         23.259545\n291  291  2020     04         16.697143\n\n[292 rows x 4 columns]",
      "text/html": "<div>\n<style scoped>\n    .dataframe tbody tr th:only-of-type {\n        vertical-align: middle;\n    }\n\n    .dataframe tbody tr th {\n        vertical-align: top;\n    }\n\n    .dataframe thead th {\n        text-align: right;\n    }\n</style>\n<table border=\"1\" class=\"dataframe\">\n  <thead>\n    <tr style=\"text-align: right;\">\n      <th></th>\n      <th>id</th>\n      <th>years</th>\n      <th>months</th>\n      <th>barrel_avg_price</th>\n    </tr>\n  </thead>\n  <tbody>\n    <tr>\n      <td>0</td>\n      <td>0</td>\n      <td>1996</td>\n      <td>01</td>\n      <td>16.273000</td>\n    </tr>\n    <tr>\n      <td>1</td>\n      <td>1</td>\n      <td>1996</td>\n      <td>02</td>\n      <td>16.489412</td>\n    </tr>\n    <tr>\n      <td>2</td>\n      <td>2</td>\n      <td>1996</td>\n      <td>03</td>\n      <td>18.317368</td>\n    </tr>\n    <tr>\n      <td>3</td>\n      <td>3</td>\n      <td>1996</td>\n      <td>04</td>\n      <td>19.588947</td>\n    </tr>\n    <tr>\n      <td>4</td>\n      <td>4</td>\n      <td>1996</td>\n      <td>05</td>\n      <td>17.798824</td>\n    </tr>\n    <tr>\n      <td>...</td>\n      <td>...</td>\n      <td>...</td>\n      <td>...</td>\n      <td>...</td>\n    </tr>\n    <tr>\n      <td>287</td>\n      <td>287</td>\n      <td>2019</td>\n      <td>12</td>\n      <td>54.906500</td>\n    </tr>\n    <tr>\n      <td>288</td>\n      <td>288</td>\n      <td>2020</td>\n      <td>01</td>\n      <td>53.897143</td>\n    </tr>\n    <tr>\n      <td>289</td>\n      <td>289</td>\n      <td>2020</td>\n      <td>02</td>\n      <td>45.386842</td>\n    </tr>\n    <tr>\n      <td>290</td>\n      <td>290</td>\n      <td>2020</td>\n      <td>03</td>\n      <td>23.259545</td>\n    </tr>\n    <tr>\n      <td>291</td>\n      <td>291</td>\n      <td>2020</td>\n      <td>04</td>\n      <td>16.697143</td>\n    </tr>\n  </tbody>\n</table>\n<p>292 rows × 4 columns</p>\n</div>"
     },
     "metadata": {},
     "execution_count": 10
    }
   ],
   "source": [
    "#Rename column 'SI744' \n",
    "barrelPrice_wAVG_df=barrelPrice_wAVG_df.rename(columns={\"SI744\":\"barrel_avg_price\"})\n",
    "print(barrelPrice_wAVG_df.dtypes)\n",
    "barrelPrice_wAVG_df"
   ]
  },
  {
   "cell_type": "code",
   "execution_count": null,
   "metadata": {},
   "outputs": [],
   "source": []
  },
  {
   "cell_type": "code",
   "execution_count": null,
   "metadata": {},
   "outputs": [],
   "source": []
  },
  {
   "cell_type": "code",
   "execution_count": 11,
   "metadata": {},
   "outputs": [
    {
     "output_type": "execute_result",
     "data": {
      "text/plain": "['barrel_price', 'inflation', 'indice']"
     },
     "metadata": {},
     "execution_count": 11
    }
   ],
   "source": [
    "#6. Create DB Connection\n",
    "connection_string = \"postgres:Ichliebe1*@localhost:5432/Project2\"\n",
    "engine = create_engine(f'postgresql://{connection_string}')\n",
    "\n",
    "# Confirm tables\n",
    "engine.table_names() "
   ]
  },
  {
   "cell_type": "code",
   "execution_count": 12,
   "metadata": {},
   "outputs": [],
   "source": [
    "#7. Load DF into DB\n",
    "barrelPrice_wAVG_df.to_sql(name=\"barrel_price\", con=engine, if_exists=\"append\", index=False)\n",
    ""
   ]
  },
  {
   "cell_type": "code",
   "execution_count": null,
   "metadata": {},
   "outputs": [],
   "source": []
  }
 ]
}